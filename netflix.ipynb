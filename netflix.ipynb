{
 "cells": [
  {
   "cell_type": "code",
   "execution_count": 650,
   "id": "1b4ddddb",
   "metadata": {},
   "outputs": [
    {
     "name": "stdout",
     "output_type": "stream",
     "text": [
      "# 🎬 Netflix Content Analysis\n",
      "\n",
      "Welcome to this exploratory data analysis (EDA) project on the Netflix dataset.\n",
      "\n",
      "In this notebook, we explore:\n",
      "- Trends in content type (Movies vs TV Shows)\n",
      "- Year-wise and country-wise distribution of content\n",
      "- Duration, genre, and other content attributes\n",
      "\n",
      "This notebook is structured to provide insights for aspiring AI and Data Science professionals, and is ready for portfolio showcasing.\n",
      "\n"
     ]
    }
   ],
   "source": [
    "print(\"\"\"# 🎬 Netflix Content Analysis\n",
    "\n",
    "Welcome to this exploratory data analysis (EDA) project on the Netflix dataset.\n",
    "\n",
    "In this notebook, we explore:\n",
    "- Trends in content type (Movies vs TV Shows)\n",
    "- Year-wise and country-wise distribution of content\n",
    "- Duration, genre, and other content attributes\n",
    "\n",
    "This notebook is structured to provide insights for aspiring AI and Data Science professionals, and is ready for portfolio showcasing.\n",
    "\"\"\")"
   ]
  },
  {
   "cell_type": "code",
   "execution_count": 646,
   "id": "d5c23aa9",
   "metadata": {},
   "outputs": [],
   "source": [
    "import pandas as pd "
   ]
  },
  {
   "cell_type": "code",
   "execution_count": 576,
   "id": "11cda7b2",
   "metadata": {},
   "outputs": [],
   "source": [
    "\n",
    "file_path = r\"C:\\Users\\dipak\\OneDrive\\Desktop\\Journey_AI\\IBM AI ENgineer\\netflix_titles\\netflix_titles.csv\\netflix_titles.csv\"\n"
   ]
  },
  {
   "cell_type": "code",
   "execution_count": 577,
   "id": "376e10aa",
   "metadata": {},
   "outputs": [
    {
     "data": {
      "text/html": [
       "<div>\n",
       "<style scoped>\n",
       "    .dataframe tbody tr th:only-of-type {\n",
       "        vertical-align: middle;\n",
       "    }\n",
       "\n",
       "    .dataframe tbody tr th {\n",
       "        vertical-align: top;\n",
       "    }\n",
       "\n",
       "    .dataframe thead th {\n",
       "        text-align: right;\n",
       "    }\n",
       "</style>\n",
       "<table border=\"1\" class=\"dataframe\">\n",
       "  <thead>\n",
       "    <tr style=\"text-align: right;\">\n",
       "      <th></th>\n",
       "      <th>show_id</th>\n",
       "      <th>type</th>\n",
       "      <th>title</th>\n",
       "      <th>director</th>\n",
       "      <th>cast</th>\n",
       "      <th>country</th>\n",
       "      <th>date_added</th>\n",
       "      <th>release_year</th>\n",
       "      <th>rating</th>\n",
       "      <th>duration</th>\n",
       "      <th>listed_in</th>\n",
       "      <th>description</th>\n",
       "    </tr>\n",
       "  </thead>\n",
       "  <tbody>\n",
       "    <tr>\n",
       "      <th>0</th>\n",
       "      <td>s1</td>\n",
       "      <td>Movie</td>\n",
       "      <td>Dick Johnson Is Dead</td>\n",
       "      <td>Kirsten Johnson</td>\n",
       "      <td>NaN</td>\n",
       "      <td>United States</td>\n",
       "      <td>September 25, 2021</td>\n",
       "      <td>2020</td>\n",
       "      <td>PG-13</td>\n",
       "      <td>90 min</td>\n",
       "      <td>Documentaries</td>\n",
       "      <td>As her father nears the end of his life, filmm...</td>\n",
       "    </tr>\n",
       "    <tr>\n",
       "      <th>1</th>\n",
       "      <td>s2</td>\n",
       "      <td>TV Show</td>\n",
       "      <td>Blood &amp; Water</td>\n",
       "      <td>NaN</td>\n",
       "      <td>Ama Qamata, Khosi Ngema, Gail Mabalane, Thaban...</td>\n",
       "      <td>South Africa</td>\n",
       "      <td>September 24, 2021</td>\n",
       "      <td>2021</td>\n",
       "      <td>TV-MA</td>\n",
       "      <td>2 Seasons</td>\n",
       "      <td>International TV Shows, TV Dramas, TV Mysteries</td>\n",
       "      <td>After crossing paths at a party, a Cape Town t...</td>\n",
       "    </tr>\n",
       "    <tr>\n",
       "      <th>2</th>\n",
       "      <td>s3</td>\n",
       "      <td>TV Show</td>\n",
       "      <td>Ganglands</td>\n",
       "      <td>Julien Leclercq</td>\n",
       "      <td>Sami Bouajila, Tracy Gotoas, Samuel Jouy, Nabi...</td>\n",
       "      <td>NaN</td>\n",
       "      <td>September 24, 2021</td>\n",
       "      <td>2021</td>\n",
       "      <td>TV-MA</td>\n",
       "      <td>1 Season</td>\n",
       "      <td>Crime TV Shows, International TV Shows, TV Act...</td>\n",
       "      <td>To protect his family from a powerful drug lor...</td>\n",
       "    </tr>\n",
       "    <tr>\n",
       "      <th>3</th>\n",
       "      <td>s4</td>\n",
       "      <td>TV Show</td>\n",
       "      <td>Jailbirds New Orleans</td>\n",
       "      <td>NaN</td>\n",
       "      <td>NaN</td>\n",
       "      <td>NaN</td>\n",
       "      <td>September 24, 2021</td>\n",
       "      <td>2021</td>\n",
       "      <td>TV-MA</td>\n",
       "      <td>1 Season</td>\n",
       "      <td>Docuseries, Reality TV</td>\n",
       "      <td>Feuds, flirtations and toilet talk go down amo...</td>\n",
       "    </tr>\n",
       "    <tr>\n",
       "      <th>4</th>\n",
       "      <td>s5</td>\n",
       "      <td>TV Show</td>\n",
       "      <td>Kota Factory</td>\n",
       "      <td>NaN</td>\n",
       "      <td>Mayur More, Jitendra Kumar, Ranjan Raj, Alam K...</td>\n",
       "      <td>India</td>\n",
       "      <td>September 24, 2021</td>\n",
       "      <td>2021</td>\n",
       "      <td>TV-MA</td>\n",
       "      <td>2 Seasons</td>\n",
       "      <td>International TV Shows, Romantic TV Shows, TV ...</td>\n",
       "      <td>In a city of coaching centers known to train I...</td>\n",
       "    </tr>\n",
       "  </tbody>\n",
       "</table>\n",
       "</div>"
      ],
      "text/plain": [
       "  show_id     type                  title         director  \\\n",
       "0      s1    Movie   Dick Johnson Is Dead  Kirsten Johnson   \n",
       "1      s2  TV Show          Blood & Water              NaN   \n",
       "2      s3  TV Show              Ganglands  Julien Leclercq   \n",
       "3      s4  TV Show  Jailbirds New Orleans              NaN   \n",
       "4      s5  TV Show           Kota Factory              NaN   \n",
       "\n",
       "                                                cast        country  \\\n",
       "0                                                NaN  United States   \n",
       "1  Ama Qamata, Khosi Ngema, Gail Mabalane, Thaban...   South Africa   \n",
       "2  Sami Bouajila, Tracy Gotoas, Samuel Jouy, Nabi...            NaN   \n",
       "3                                                NaN            NaN   \n",
       "4  Mayur More, Jitendra Kumar, Ranjan Raj, Alam K...          India   \n",
       "\n",
       "           date_added  release_year rating   duration  \\\n",
       "0  September 25, 2021          2020  PG-13     90 min   \n",
       "1  September 24, 2021          2021  TV-MA  2 Seasons   \n",
       "2  September 24, 2021          2021  TV-MA   1 Season   \n",
       "3  September 24, 2021          2021  TV-MA   1 Season   \n",
       "4  September 24, 2021          2021  TV-MA  2 Seasons   \n",
       "\n",
       "                                           listed_in  \\\n",
       "0                                      Documentaries   \n",
       "1    International TV Shows, TV Dramas, TV Mysteries   \n",
       "2  Crime TV Shows, International TV Shows, TV Act...   \n",
       "3                             Docuseries, Reality TV   \n",
       "4  International TV Shows, Romantic TV Shows, TV ...   \n",
       "\n",
       "                                         description  \n",
       "0  As her father nears the end of his life, filmm...  \n",
       "1  After crossing paths at a party, a Cape Town t...  \n",
       "2  To protect his family from a powerful drug lor...  \n",
       "3  Feuds, flirtations and toilet talk go down amo...  \n",
       "4  In a city of coaching centers known to train I...  "
      ]
     },
     "execution_count": 577,
     "metadata": {},
     "output_type": "execute_result"
    }
   ],
   "source": [
    "df = pd.read_csv(file_path)\n",
    "df.head()"
   ]
  },
  {
   "cell_type": "code",
   "execution_count": 578,
   "id": "43c5733d",
   "metadata": {},
   "outputs": [],
   "source": [
    "# Drop duplicates "
   ]
  },
  {
   "cell_type": "code",
   "execution_count": 579,
   "id": "fa7a632f",
   "metadata": {},
   "outputs": [],
   "source": [
    "had_duplicates = df.duplicated().any()"
   ]
  },
  {
   "cell_type": "code",
   "execution_count": 580,
   "id": "0a70f070",
   "metadata": {},
   "outputs": [
    {
     "data": {
      "text/plain": [
       "False"
      ]
     },
     "execution_count": 580,
     "metadata": {},
     "output_type": "execute_result"
    }
   ],
   "source": [
    "had_duplicates"
   ]
  },
  {
   "cell_type": "code",
   "execution_count": 581,
   "id": "0cca8b71",
   "metadata": {},
   "outputs": [],
   "source": [
    "if had_duplicates:\n",
    "    df = df.drop_duplicates()"
   ]
  },
  {
   "cell_type": "code",
   "execution_count": 582,
   "id": "e8ffee17",
   "metadata": {},
   "outputs": [],
   "source": [
    "# Drop null values "
   ]
  },
  {
   "cell_type": "code",
   "execution_count": 583,
   "id": "9f0af696",
   "metadata": {},
   "outputs": [],
   "source": [
    "df = df.dropna()"
   ]
  },
  {
   "cell_type": "code",
   "execution_count": 584,
   "id": "a8f338c5",
   "metadata": {},
   "outputs": [],
   "source": [
    "had_duplicates = df.duplicated().any()"
   ]
  },
  {
   "cell_type": "code",
   "execution_count": 585,
   "id": "20212bbe",
   "metadata": {},
   "outputs": [
    {
     "data": {
      "text/plain": [
       "False"
      ]
     },
     "execution_count": 585,
     "metadata": {},
     "output_type": "execute_result"
    }
   ],
   "source": [
    "had_duplicates"
   ]
  },
  {
   "cell_type": "code",
   "execution_count": 586,
   "id": "f7987e93",
   "metadata": {},
   "outputs": [
    {
     "data": {
      "text/html": [
       "<div>\n",
       "<style scoped>\n",
       "    .dataframe tbody tr th:only-of-type {\n",
       "        vertical-align: middle;\n",
       "    }\n",
       "\n",
       "    .dataframe tbody tr th {\n",
       "        vertical-align: top;\n",
       "    }\n",
       "\n",
       "    .dataframe thead th {\n",
       "        text-align: right;\n",
       "    }\n",
       "</style>\n",
       "<table border=\"1\" class=\"dataframe\">\n",
       "  <thead>\n",
       "    <tr style=\"text-align: right;\">\n",
       "      <th></th>\n",
       "      <th>show_id</th>\n",
       "      <th>type</th>\n",
       "      <th>title</th>\n",
       "      <th>director</th>\n",
       "      <th>cast</th>\n",
       "      <th>country</th>\n",
       "      <th>date_added</th>\n",
       "      <th>release_year</th>\n",
       "      <th>rating</th>\n",
       "      <th>duration</th>\n",
       "      <th>listed_in</th>\n",
       "      <th>description</th>\n",
       "    </tr>\n",
       "  </thead>\n",
       "  <tbody>\n",
       "    <tr>\n",
       "      <th>7</th>\n",
       "      <td>s8</td>\n",
       "      <td>Movie</td>\n",
       "      <td>Sankofa</td>\n",
       "      <td>Haile Gerima</td>\n",
       "      <td>Kofi Ghanaba, Oyafunmike Ogunlano, Alexandra D...</td>\n",
       "      <td>United States, Ghana, Burkina Faso, United Kin...</td>\n",
       "      <td>September 24, 2021</td>\n",
       "      <td>1993</td>\n",
       "      <td>TV-MA</td>\n",
       "      <td>125 min</td>\n",
       "      <td>Dramas, Independent Movies, International Movies</td>\n",
       "      <td>On a photo shoot in Ghana, an American model s...</td>\n",
       "    </tr>\n",
       "    <tr>\n",
       "      <th>8</th>\n",
       "      <td>s9</td>\n",
       "      <td>TV Show</td>\n",
       "      <td>The Great British Baking Show</td>\n",
       "      <td>Andy Devonshire</td>\n",
       "      <td>Mel Giedroyc, Sue Perkins, Mary Berry, Paul Ho...</td>\n",
       "      <td>United Kingdom</td>\n",
       "      <td>September 24, 2021</td>\n",
       "      <td>2021</td>\n",
       "      <td>TV-14</td>\n",
       "      <td>9 Seasons</td>\n",
       "      <td>British TV Shows, Reality TV</td>\n",
       "      <td>A talented batch of amateur bakers face off in...</td>\n",
       "    </tr>\n",
       "    <tr>\n",
       "      <th>9</th>\n",
       "      <td>s10</td>\n",
       "      <td>Movie</td>\n",
       "      <td>The Starling</td>\n",
       "      <td>Theodore Melfi</td>\n",
       "      <td>Melissa McCarthy, Chris O'Dowd, Kevin Kline, T...</td>\n",
       "      <td>United States</td>\n",
       "      <td>September 24, 2021</td>\n",
       "      <td>2021</td>\n",
       "      <td>PG-13</td>\n",
       "      <td>104 min</td>\n",
       "      <td>Comedies, Dramas</td>\n",
       "      <td>A woman adjusting to life after a loss contend...</td>\n",
       "    </tr>\n",
       "  </tbody>\n",
       "</table>\n",
       "</div>"
      ],
      "text/plain": [
       "  show_id     type                          title         director  \\\n",
       "7      s8    Movie                        Sankofa     Haile Gerima   \n",
       "8      s9  TV Show  The Great British Baking Show  Andy Devonshire   \n",
       "9     s10    Movie                   The Starling   Theodore Melfi   \n",
       "\n",
       "                                                cast  \\\n",
       "7  Kofi Ghanaba, Oyafunmike Ogunlano, Alexandra D...   \n",
       "8  Mel Giedroyc, Sue Perkins, Mary Berry, Paul Ho...   \n",
       "9  Melissa McCarthy, Chris O'Dowd, Kevin Kline, T...   \n",
       "\n",
       "                                             country          date_added  \\\n",
       "7  United States, Ghana, Burkina Faso, United Kin...  September 24, 2021   \n",
       "8                                     United Kingdom  September 24, 2021   \n",
       "9                                      United States  September 24, 2021   \n",
       "\n",
       "   release_year rating   duration  \\\n",
       "7          1993  TV-MA    125 min   \n",
       "8          2021  TV-14  9 Seasons   \n",
       "9          2021  PG-13    104 min   \n",
       "\n",
       "                                          listed_in  \\\n",
       "7  Dramas, Independent Movies, International Movies   \n",
       "8                      British TV Shows, Reality TV   \n",
       "9                                  Comedies, Dramas   \n",
       "\n",
       "                                         description  \n",
       "7  On a photo shoot in Ghana, an American model s...  \n",
       "8  A talented batch of amateur bakers face off in...  \n",
       "9  A woman adjusting to life after a loss contend...  "
      ]
     },
     "execution_count": 586,
     "metadata": {},
     "output_type": "execute_result"
    }
   ],
   "source": [
    "df.head(3)"
   ]
  },
  {
   "cell_type": "code",
   "execution_count": 587,
   "id": "21a36c68",
   "metadata": {},
   "outputs": [
    {
     "data": {
      "text/plain": [
       "array(['September 24, 2021', 'September 24, 2021', 'September 24, 2021',\n",
       "       ..., 'November 1, 2019', 'January 11, 2020', 'March 2, 2019'],\n",
       "      dtype=object)"
      ]
     },
     "execution_count": 587,
     "metadata": {},
     "output_type": "execute_result"
    }
   ],
   "source": [
    "new_time = df['date_added']\n",
    "new_time = new_time.to_numpy()\n",
    "new_time"
   ]
  },
  {
   "cell_type": "code",
   "execution_count": 588,
   "id": "8ae841cb",
   "metadata": {},
   "outputs": [],
   "source": [
    "year_added = []\n",
    "for i in new_time:\n",
    "    year_added.append(pd.to_datetime(str(i)))"
   ]
  },
  {
   "cell_type": "code",
   "execution_count": 589,
   "id": "9c6f1e3a",
   "metadata": {},
   "outputs": [
    {
     "data": {
      "text/plain": [
       "[Timestamp('2021-09-24 00:00:00'),\n",
       " Timestamp('2021-09-24 00:00:00'),\n",
       " Timestamp('2021-09-24 00:00:00'),\n",
       " Timestamp('2021-09-23 00:00:00'),\n",
       " Timestamp('2021-09-21 00:00:00')]"
      ]
     },
     "execution_count": 589,
     "metadata": {},
     "output_type": "execute_result"
    }
   ],
   "source": [
    "year_added[:5]"
   ]
  },
  {
   "cell_type": "code",
   "execution_count": 590,
   "id": "66f2cc52",
   "metadata": {},
   "outputs": [
    {
     "data": {
      "text/html": [
       "<div>\n",
       "<style scoped>\n",
       "    .dataframe tbody tr th:only-of-type {\n",
       "        vertical-align: middle;\n",
       "    }\n",
       "\n",
       "    .dataframe tbody tr th {\n",
       "        vertical-align: top;\n",
       "    }\n",
       "\n",
       "    .dataframe thead th {\n",
       "        text-align: right;\n",
       "    }\n",
       "</style>\n",
       "<table border=\"1\" class=\"dataframe\">\n",
       "  <thead>\n",
       "    <tr style=\"text-align: right;\">\n",
       "      <th></th>\n",
       "      <th>Year added</th>\n",
       "    </tr>\n",
       "  </thead>\n",
       "  <tbody>\n",
       "    <tr>\n",
       "      <th>0</th>\n",
       "      <td>2021-09-24</td>\n",
       "    </tr>\n",
       "    <tr>\n",
       "      <th>1</th>\n",
       "      <td>2021-09-24</td>\n",
       "    </tr>\n",
       "    <tr>\n",
       "      <th>2</th>\n",
       "      <td>2021-09-24</td>\n",
       "    </tr>\n",
       "    <tr>\n",
       "      <th>3</th>\n",
       "      <td>2021-09-23</td>\n",
       "    </tr>\n",
       "    <tr>\n",
       "      <th>4</th>\n",
       "      <td>2021-09-21</td>\n",
       "    </tr>\n",
       "  </tbody>\n",
       "</table>\n",
       "</div>"
      ],
      "text/plain": [
       "  Year added\n",
       "0 2021-09-24\n",
       "1 2021-09-24\n",
       "2 2021-09-24\n",
       "3 2021-09-23\n",
       "4 2021-09-21"
      ]
     },
     "execution_count": 590,
     "metadata": {},
     "output_type": "execute_result"
    }
   ],
   "source": [
    "year_added = pd.DataFrame(year_added, columns=[\"Year added\"])\n",
    "year_added.head()"
   ]
  },
  {
   "cell_type": "code",
   "execution_count": 591,
   "id": "d60a8872",
   "metadata": {},
   "outputs": [],
   "source": [
    "df = pd.concat([df,year_added],axis=1)"
   ]
  },
  {
   "cell_type": "code",
   "execution_count": 592,
   "id": "d3496192",
   "metadata": {},
   "outputs": [
    {
     "data": {
      "text/plain": [
       "Index(['show_id', 'type', 'title', 'director', 'cast', 'country', 'date_added',\n",
       "       'release_year', 'rating', 'duration', 'listed_in', 'description',\n",
       "       'Year added'],\n",
       "      dtype='object')"
      ]
     },
     "execution_count": 592,
     "metadata": {},
     "output_type": "execute_result"
    }
   ],
   "source": [
    "df.columns"
   ]
  },
  {
   "cell_type": "code",
   "execution_count": 593,
   "id": "8a362e80",
   "metadata": {},
   "outputs": [],
   "source": [
    "# We can successfully see that year has beed added to dataframe "
   ]
  },
  {
   "cell_type": "code",
   "execution_count": 594,
   "id": "5c09d491",
   "metadata": {},
   "outputs": [
    {
     "data": {
      "text/plain": [
       "type   \n",
       "Movie      5185\n",
       "TV Show     147\n",
       "Name: count, dtype: int64"
      ]
     },
     "execution_count": 594,
     "metadata": {},
     "output_type": "execute_result"
    }
   ],
   "source": [
    "type_data = df[['type']].value_counts()\n",
    "type_data.head()"
   ]
  },
  {
   "cell_type": "code",
   "execution_count": 595,
   "id": "c7b01d0f",
   "metadata": {},
   "outputs": [
    {
     "data": {
      "text/plain": [
       "5332"
      ]
     },
     "execution_count": 595,
     "metadata": {},
     "output_type": "execute_result"
    }
   ],
   "source": [
    "total = type_data[\"Movie\"] + type_data[\"TV Show\"]\n",
    "total"
   ]
  },
  {
   "cell_type": "code",
   "execution_count": 596,
   "id": "53ec2ad7",
   "metadata": {},
   "outputs": [
    {
     "name": "stdout",
     "output_type": "stream",
     "text": [
      "Movie: 97.2430607651913\n"
     ]
    }
   ],
   "source": [
    "print(f\"Movie: {(type_data[\"Movie\"]/total) * 100}\")"
   ]
  },
  {
   "cell_type": "code",
   "execution_count": 597,
   "id": "a2bfcb47",
   "metadata": {},
   "outputs": [
    {
     "name": "stdout",
     "output_type": "stream",
     "text": [
      "TV Show: 2.7569392348087023\n"
     ]
    }
   ],
   "source": [
    "print(f\"TV Show: {(type_data[\"TV Show\"]/total) * 100}\")"
   ]
  },
  {
   "cell_type": "code",
   "execution_count": 598,
   "id": "99a97bd5",
   "metadata": {},
   "outputs": [
    {
     "data": {
      "text/plain": [
       "5332"
      ]
     },
     "execution_count": 598,
     "metadata": {},
     "output_type": "execute_result"
    }
   ],
   "source": [
    "total"
   ]
  },
  {
   "cell_type": "code",
   "execution_count": 599,
   "id": "c2b36816",
   "metadata": {},
   "outputs": [
    {
     "data": {
      "text/plain": [
       "Index(['show_id', 'type', 'title', 'director', 'cast', 'country', 'date_added',\n",
       "       'release_year', 'rating', 'duration', 'listed_in', 'description',\n",
       "       'Year added'],\n",
       "      dtype='object')"
      ]
     },
     "execution_count": 599,
     "metadata": {},
     "output_type": "execute_result"
    }
   ],
   "source": [
    "df.columns"
   ]
  },
  {
   "cell_type": "code",
   "execution_count": null,
   "id": "0762c8c7",
   "metadata": {},
   "outputs": [],
   "source": []
  },
  {
   "cell_type": "code",
   "execution_count": 600,
   "id": "68cbcdc3",
   "metadata": {},
   "outputs": [],
   "source": [
    "x = df[['Year added']]\n",
    "x = pd.to_datetime(x['Year added']).dt.year.sort_index()"
   ]
  },
  {
   "cell_type": "code",
   "execution_count": 601,
   "id": "99bd1d60",
   "metadata": {},
   "outputs": [
    {
     "data": {
      "text/plain": [
       "country\n",
       "United States                                   1846\n",
       "India                                            875\n",
       "United Kingdom                                   183\n",
       "Canada                                           107\n",
       "Spain                                             91\n",
       "                                                ... \n",
       "Uruguay, Guatemala                                 1\n",
       "Romania, Bulgaria, Hungary                         1\n",
       "Philippines, United States                         1\n",
       "India, United Kingdom, Canada, United States       1\n",
       "United Arab Emirates, Jordan                       1\n",
       "Name: count, Length: 604, dtype: int64"
      ]
     },
     "execution_count": 601,
     "metadata": {},
     "output_type": "execute_result"
    }
   ],
   "source": [
    "df['country'].value_counts()"
   ]
  },
  {
   "cell_type": "code",
   "execution_count": 602,
   "id": "f72f2235",
   "metadata": {},
   "outputs": [
    {
     "data": {
      "text/plain": [
       "Index(['show_id', 'type', 'title', 'director', 'cast', 'country', 'date_added',\n",
       "       'release_year', 'rating', 'duration', 'listed_in', 'description',\n",
       "       'Year added'],\n",
       "      dtype='object')"
      ]
     },
     "execution_count": 602,
     "metadata": {},
     "output_type": "execute_result"
    }
   ],
   "source": [
    "df.columns"
   ]
  },
  {
   "cell_type": "code",
   "execution_count": 603,
   "id": "9a6d00b7",
   "metadata": {},
   "outputs": [
    {
     "data": {
      "text/html": [
       "<div>\n",
       "<style scoped>\n",
       "    .dataframe tbody tr th:only-of-type {\n",
       "        vertical-align: middle;\n",
       "    }\n",
       "\n",
       "    .dataframe tbody tr th {\n",
       "        vertical-align: top;\n",
       "    }\n",
       "\n",
       "    .dataframe thead th {\n",
       "        text-align: right;\n",
       "    }\n",
       "</style>\n",
       "<table border=\"1\" class=\"dataframe\">\n",
       "  <thead>\n",
       "    <tr style=\"text-align: right;\">\n",
       "      <th></th>\n",
       "      <th>show_id</th>\n",
       "      <th>type</th>\n",
       "      <th>title</th>\n",
       "      <th>director</th>\n",
       "      <th>cast</th>\n",
       "      <th>country</th>\n",
       "      <th>date_added</th>\n",
       "      <th>release_year</th>\n",
       "      <th>rating</th>\n",
       "      <th>duration</th>\n",
       "      <th>listed_in</th>\n",
       "      <th>description</th>\n",
       "      <th>Year added</th>\n",
       "    </tr>\n",
       "  </thead>\n",
       "  <tbody>\n",
       "    <tr>\n",
       "      <th>7</th>\n",
       "      <td>s8</td>\n",
       "      <td>Movie</td>\n",
       "      <td>Sankofa</td>\n",
       "      <td>Haile Gerima</td>\n",
       "      <td>Kofi Ghanaba, Oyafunmike Ogunlano, Alexandra D...</td>\n",
       "      <td>United States, Ghana, Burkina Faso, United Kin...</td>\n",
       "      <td>September 24, 2021</td>\n",
       "      <td>1993.0</td>\n",
       "      <td>TV-MA</td>\n",
       "      <td>125 min</td>\n",
       "      <td>Dramas, Independent Movies, International Movies</td>\n",
       "      <td>On a photo shoot in Ghana, an American model s...</td>\n",
       "      <td>2021-09-19</td>\n",
       "    </tr>\n",
       "    <tr>\n",
       "      <th>8</th>\n",
       "      <td>s9</td>\n",
       "      <td>TV Show</td>\n",
       "      <td>The Great British Baking Show</td>\n",
       "      <td>Andy Devonshire</td>\n",
       "      <td>Mel Giedroyc, Sue Perkins, Mary Berry, Paul Ho...</td>\n",
       "      <td>United Kingdom</td>\n",
       "      <td>September 24, 2021</td>\n",
       "      <td>2021.0</td>\n",
       "      <td>TV-14</td>\n",
       "      <td>9 Seasons</td>\n",
       "      <td>British TV Shows, Reality TV</td>\n",
       "      <td>A talented batch of amateur bakers face off in...</td>\n",
       "      <td>2021-09-16</td>\n",
       "    </tr>\n",
       "    <tr>\n",
       "      <th>9</th>\n",
       "      <td>s10</td>\n",
       "      <td>Movie</td>\n",
       "      <td>The Starling</td>\n",
       "      <td>Theodore Melfi</td>\n",
       "      <td>Melissa McCarthy, Chris O'Dowd, Kevin Kline, T...</td>\n",
       "      <td>United States</td>\n",
       "      <td>September 24, 2021</td>\n",
       "      <td>2021.0</td>\n",
       "      <td>PG-13</td>\n",
       "      <td>104 min</td>\n",
       "      <td>Comedies, Dramas</td>\n",
       "      <td>A woman adjusting to life after a loss contend...</td>\n",
       "      <td>2021-09-16</td>\n",
       "    </tr>\n",
       "    <tr>\n",
       "      <th>12</th>\n",
       "      <td>s13</td>\n",
       "      <td>Movie</td>\n",
       "      <td>Je Suis Karl</td>\n",
       "      <td>Christian Schwochow</td>\n",
       "      <td>Luna Wedler, Jannis Niewöhner, Milan Peschel, ...</td>\n",
       "      <td>Germany, Czech Republic</td>\n",
       "      <td>September 23, 2021</td>\n",
       "      <td>2021.0</td>\n",
       "      <td>TV-MA</td>\n",
       "      <td>127 min</td>\n",
       "      <td>Dramas, International Movies</td>\n",
       "      <td>After most of her family is murdered in a terr...</td>\n",
       "      <td>2021-09-16</td>\n",
       "    </tr>\n",
       "    <tr>\n",
       "      <th>24</th>\n",
       "      <td>s25</td>\n",
       "      <td>Movie</td>\n",
       "      <td>Jeans</td>\n",
       "      <td>S. Shankar</td>\n",
       "      <td>Prashanth, Aishwarya Rai Bachchan, Sri Lakshmi...</td>\n",
       "      <td>India</td>\n",
       "      <td>September 21, 2021</td>\n",
       "      <td>1998.0</td>\n",
       "      <td>TV-14</td>\n",
       "      <td>166 min</td>\n",
       "      <td>Comedies, International Movies, Romantic Movies</td>\n",
       "      <td>When the father of the man she loves insists t...</td>\n",
       "      <td>2021-09-15</td>\n",
       "    </tr>\n",
       "  </tbody>\n",
       "</table>\n",
       "</div>"
      ],
      "text/plain": [
       "   show_id     type                          title             director  \\\n",
       "7       s8    Movie                        Sankofa         Haile Gerima   \n",
       "8       s9  TV Show  The Great British Baking Show      Andy Devonshire   \n",
       "9      s10    Movie                   The Starling       Theodore Melfi   \n",
       "12     s13    Movie                   Je Suis Karl  Christian Schwochow   \n",
       "24     s25    Movie                          Jeans           S. Shankar   \n",
       "\n",
       "                                                 cast  \\\n",
       "7   Kofi Ghanaba, Oyafunmike Ogunlano, Alexandra D...   \n",
       "8   Mel Giedroyc, Sue Perkins, Mary Berry, Paul Ho...   \n",
       "9   Melissa McCarthy, Chris O'Dowd, Kevin Kline, T...   \n",
       "12  Luna Wedler, Jannis Niewöhner, Milan Peschel, ...   \n",
       "24  Prashanth, Aishwarya Rai Bachchan, Sri Lakshmi...   \n",
       "\n",
       "                                              country          date_added  \\\n",
       "7   United States, Ghana, Burkina Faso, United Kin...  September 24, 2021   \n",
       "8                                      United Kingdom  September 24, 2021   \n",
       "9                                       United States  September 24, 2021   \n",
       "12                            Germany, Czech Republic  September 23, 2021   \n",
       "24                                              India  September 21, 2021   \n",
       "\n",
       "    release_year rating   duration  \\\n",
       "7         1993.0  TV-MA    125 min   \n",
       "8         2021.0  TV-14  9 Seasons   \n",
       "9         2021.0  PG-13    104 min   \n",
       "12        2021.0  TV-MA    127 min   \n",
       "24        1998.0  TV-14    166 min   \n",
       "\n",
       "                                           listed_in  \\\n",
       "7   Dramas, Independent Movies, International Movies   \n",
       "8                       British TV Shows, Reality TV   \n",
       "9                                   Comedies, Dramas   \n",
       "12                      Dramas, International Movies   \n",
       "24   Comedies, International Movies, Romantic Movies   \n",
       "\n",
       "                                          description Year added  \n",
       "7   On a photo shoot in Ghana, an American model s... 2021-09-19  \n",
       "8   A talented batch of amateur bakers face off in... 2021-09-16  \n",
       "9   A woman adjusting to life after a loss contend... 2021-09-16  \n",
       "12  After most of her family is murdered in a terr... 2021-09-16  \n",
       "24  When the father of the man she loves insists t... 2021-09-15  "
      ]
     },
     "execution_count": 603,
     "metadata": {},
     "output_type": "execute_result"
    }
   ],
   "source": [
    "df.head()"
   ]
  },
  {
   "cell_type": "code",
   "execution_count": 604,
   "id": "46f99c16",
   "metadata": {},
   "outputs": [],
   "source": [
    "genere = df[[\"listed_in\"]]"
   ]
  },
  {
   "cell_type": "code",
   "execution_count": 605,
   "id": "20042731",
   "metadata": {},
   "outputs": [
    {
     "data": {
      "text/plain": [
       "listed_in                                                      \n",
       "Dramas, International Movies                                       336\n",
       "Stand-Up Comedy                                                    286\n",
       "Comedies, Dramas, International Movies                             257\n",
       "Dramas, Independent Movies, International Movies                   243\n",
       "Children & Family Movies, Comedies                                 179\n",
       "                                                                  ... \n",
       "Anime Series, Crime TV Shows, TV Horror                              1\n",
       "Crime TV Shows, International TV Shows, Korean TV Shows              1\n",
       "Anime Series, International TV Shows, Spanish-Language TV Shows      1\n",
       "Anime Series, International TV Shows, TV Horror                      1\n",
       "Action & Adventure, Comedies, Music & Musicals                       1\n",
       "Name: count, Length: 335, dtype: int64"
      ]
     },
     "execution_count": 605,
     "metadata": {},
     "output_type": "execute_result"
    }
   ],
   "source": [
    "genere.value_counts()"
   ]
  },
  {
   "cell_type": "code",
   "execution_count": 606,
   "id": "7bb5bb9a",
   "metadata": {},
   "outputs": [],
   "source": [
    "# Feature Engineering"
   ]
  },
  {
   "cell_type": "code",
   "execution_count": 607,
   "id": "e3f6820a",
   "metadata": {},
   "outputs": [],
   "source": [
    "content_age = df[[\"Year added\"]]\n",
    "content_age = pd.to_datetime(content_age[\"Year added\"]).dt.year\n",
    "content_age = 2025 - content_age\n",
    "content_age = content_age.to_numpy()"
   ]
  },
  {
   "cell_type": "code",
   "execution_count": 608,
   "id": "a4490830",
   "metadata": {},
   "outputs": [
    {
     "data": {
      "text/html": [
       "<div>\n",
       "<style scoped>\n",
       "    .dataframe tbody tr th:only-of-type {\n",
       "        vertical-align: middle;\n",
       "    }\n",
       "\n",
       "    .dataframe tbody tr th {\n",
       "        vertical-align: top;\n",
       "    }\n",
       "\n",
       "    .dataframe thead th {\n",
       "        text-align: right;\n",
       "    }\n",
       "</style>\n",
       "<table border=\"1\" class=\"dataframe\">\n",
       "  <thead>\n",
       "    <tr style=\"text-align: right;\">\n",
       "      <th></th>\n",
       "      <th>Content Age</th>\n",
       "    </tr>\n",
       "  </thead>\n",
       "  <tbody>\n",
       "    <tr>\n",
       "      <th>0</th>\n",
       "      <td>4.0</td>\n",
       "    </tr>\n",
       "    <tr>\n",
       "      <th>1</th>\n",
       "      <td>4.0</td>\n",
       "    </tr>\n",
       "    <tr>\n",
       "      <th>2</th>\n",
       "      <td>4.0</td>\n",
       "    </tr>\n",
       "    <tr>\n",
       "      <th>3</th>\n",
       "      <td>4.0</td>\n",
       "    </tr>\n",
       "    <tr>\n",
       "      <th>4</th>\n",
       "      <td>4.0</td>\n",
       "    </tr>\n",
       "    <tr>\n",
       "      <th>...</th>\n",
       "      <td>...</td>\n",
       "    </tr>\n",
       "    <tr>\n",
       "      <th>7729</th>\n",
       "      <td>8.0</td>\n",
       "    </tr>\n",
       "    <tr>\n",
       "      <th>7730</th>\n",
       "      <td>6.0</td>\n",
       "    </tr>\n",
       "    <tr>\n",
       "      <th>7731</th>\n",
       "      <td>6.0</td>\n",
       "    </tr>\n",
       "    <tr>\n",
       "      <th>7732</th>\n",
       "      <td>7.0</td>\n",
       "    </tr>\n",
       "    <tr>\n",
       "      <th>7733</th>\n",
       "      <td>9.0</td>\n",
       "    </tr>\n",
       "  </tbody>\n",
       "</table>\n",
       "<p>7734 rows × 1 columns</p>\n",
       "</div>"
      ],
      "text/plain": [
       "      Content Age\n",
       "0             4.0\n",
       "1             4.0\n",
       "2             4.0\n",
       "3             4.0\n",
       "4             4.0\n",
       "...           ...\n",
       "7729          8.0\n",
       "7730          6.0\n",
       "7731          6.0\n",
       "7732          7.0\n",
       "7733          9.0\n",
       "\n",
       "[7734 rows x 1 columns]"
      ]
     },
     "execution_count": 608,
     "metadata": {},
     "output_type": "execute_result"
    }
   ],
   "source": [
    "content_age = pd.DataFrame(content_age,columns=[\"Content Age\"])\n",
    "content_age"
   ]
  },
  {
   "cell_type": "code",
   "execution_count": 609,
   "id": "674d9c0e",
   "metadata": {},
   "outputs": [],
   "source": [
    "df = df.drop_duplicates().reset_index(drop=True)\n",
    "df = pd.concat([df,content_age], axis=1)"
   ]
  },
  {
   "cell_type": "code",
   "execution_count": 610,
   "id": "9cbe0025",
   "metadata": {},
   "outputs": [
    {
     "data": {
      "text/plain": [
       "Index(['show_id', 'type', 'title', 'director', 'cast', 'country', 'date_added',\n",
       "       'release_year', 'rating', 'duration', 'listed_in', 'description',\n",
       "       'Year added', 'Content Age'],\n",
       "      dtype='object')"
      ]
     },
     "execution_count": 610,
     "metadata": {},
     "output_type": "execute_result"
    }
   ],
   "source": [
    "df.columns"
   ]
  },
  {
   "cell_type": "code",
   "execution_count": 611,
   "id": "92907996",
   "metadata": {},
   "outputs": [
    {
     "data": {
      "text/html": [
       "<div>\n",
       "<style scoped>\n",
       "    .dataframe tbody tr th:only-of-type {\n",
       "        vertical-align: middle;\n",
       "    }\n",
       "\n",
       "    .dataframe tbody tr th {\n",
       "        vertical-align: top;\n",
       "    }\n",
       "\n",
       "    .dataframe thead th {\n",
       "        text-align: right;\n",
       "    }\n",
       "</style>\n",
       "<table border=\"1\" class=\"dataframe\">\n",
       "  <thead>\n",
       "    <tr style=\"text-align: right;\">\n",
       "      <th></th>\n",
       "      <th>show_id</th>\n",
       "      <th>type</th>\n",
       "      <th>title</th>\n",
       "      <th>director</th>\n",
       "      <th>cast</th>\n",
       "      <th>country</th>\n",
       "      <th>date_added</th>\n",
       "      <th>release_year</th>\n",
       "      <th>rating</th>\n",
       "      <th>duration</th>\n",
       "      <th>listed_in</th>\n",
       "      <th>description</th>\n",
       "      <th>Year added</th>\n",
       "      <th>Content Age</th>\n",
       "    </tr>\n",
       "  </thead>\n",
       "  <tbody>\n",
       "    <tr>\n",
       "      <th>0</th>\n",
       "      <td>s8</td>\n",
       "      <td>Movie</td>\n",
       "      <td>Sankofa</td>\n",
       "      <td>Haile Gerima</td>\n",
       "      <td>Kofi Ghanaba, Oyafunmike Ogunlano, Alexandra D...</td>\n",
       "      <td>United States, Ghana, Burkina Faso, United Kin...</td>\n",
       "      <td>September 24, 2021</td>\n",
       "      <td>1993.0</td>\n",
       "      <td>TV-MA</td>\n",
       "      <td>125 min</td>\n",
       "      <td>Dramas, Independent Movies, International Movies</td>\n",
       "      <td>On a photo shoot in Ghana, an American model s...</td>\n",
       "      <td>2021-09-19</td>\n",
       "      <td>4.0</td>\n",
       "    </tr>\n",
       "    <tr>\n",
       "      <th>1</th>\n",
       "      <td>s9</td>\n",
       "      <td>TV Show</td>\n",
       "      <td>The Great British Baking Show</td>\n",
       "      <td>Andy Devonshire</td>\n",
       "      <td>Mel Giedroyc, Sue Perkins, Mary Berry, Paul Ho...</td>\n",
       "      <td>United Kingdom</td>\n",
       "      <td>September 24, 2021</td>\n",
       "      <td>2021.0</td>\n",
       "      <td>TV-14</td>\n",
       "      <td>9 Seasons</td>\n",
       "      <td>British TV Shows, Reality TV</td>\n",
       "      <td>A talented batch of amateur bakers face off in...</td>\n",
       "      <td>2021-09-16</td>\n",
       "      <td>4.0</td>\n",
       "    </tr>\n",
       "    <tr>\n",
       "      <th>2</th>\n",
       "      <td>s10</td>\n",
       "      <td>Movie</td>\n",
       "      <td>The Starling</td>\n",
       "      <td>Theodore Melfi</td>\n",
       "      <td>Melissa McCarthy, Chris O'Dowd, Kevin Kline, T...</td>\n",
       "      <td>United States</td>\n",
       "      <td>September 24, 2021</td>\n",
       "      <td>2021.0</td>\n",
       "      <td>PG-13</td>\n",
       "      <td>104 min</td>\n",
       "      <td>Comedies, Dramas</td>\n",
       "      <td>A woman adjusting to life after a loss contend...</td>\n",
       "      <td>2021-09-16</td>\n",
       "      <td>4.0</td>\n",
       "    </tr>\n",
       "    <tr>\n",
       "      <th>3</th>\n",
       "      <td>s13</td>\n",
       "      <td>Movie</td>\n",
       "      <td>Je Suis Karl</td>\n",
       "      <td>Christian Schwochow</td>\n",
       "      <td>Luna Wedler, Jannis Niewöhner, Milan Peschel, ...</td>\n",
       "      <td>Germany, Czech Republic</td>\n",
       "      <td>September 23, 2021</td>\n",
       "      <td>2021.0</td>\n",
       "      <td>TV-MA</td>\n",
       "      <td>127 min</td>\n",
       "      <td>Dramas, International Movies</td>\n",
       "      <td>After most of her family is murdered in a terr...</td>\n",
       "      <td>2021-09-16</td>\n",
       "      <td>4.0</td>\n",
       "    </tr>\n",
       "    <tr>\n",
       "      <th>4</th>\n",
       "      <td>s25</td>\n",
       "      <td>Movie</td>\n",
       "      <td>Jeans</td>\n",
       "      <td>S. Shankar</td>\n",
       "      <td>Prashanth, Aishwarya Rai Bachchan, Sri Lakshmi...</td>\n",
       "      <td>India</td>\n",
       "      <td>September 21, 2021</td>\n",
       "      <td>1998.0</td>\n",
       "      <td>TV-14</td>\n",
       "      <td>166 min</td>\n",
       "      <td>Comedies, International Movies, Romantic Movies</td>\n",
       "      <td>When the father of the man she loves insists t...</td>\n",
       "      <td>2021-09-15</td>\n",
       "      <td>4.0</td>\n",
       "    </tr>\n",
       "  </tbody>\n",
       "</table>\n",
       "</div>"
      ],
      "text/plain": [
       "  show_id     type                          title             director  \\\n",
       "0      s8    Movie                        Sankofa         Haile Gerima   \n",
       "1      s9  TV Show  The Great British Baking Show      Andy Devonshire   \n",
       "2     s10    Movie                   The Starling       Theodore Melfi   \n",
       "3     s13    Movie                   Je Suis Karl  Christian Schwochow   \n",
       "4     s25    Movie                          Jeans           S. Shankar   \n",
       "\n",
       "                                                cast  \\\n",
       "0  Kofi Ghanaba, Oyafunmike Ogunlano, Alexandra D...   \n",
       "1  Mel Giedroyc, Sue Perkins, Mary Berry, Paul Ho...   \n",
       "2  Melissa McCarthy, Chris O'Dowd, Kevin Kline, T...   \n",
       "3  Luna Wedler, Jannis Niewöhner, Milan Peschel, ...   \n",
       "4  Prashanth, Aishwarya Rai Bachchan, Sri Lakshmi...   \n",
       "\n",
       "                                             country          date_added  \\\n",
       "0  United States, Ghana, Burkina Faso, United Kin...  September 24, 2021   \n",
       "1                                     United Kingdom  September 24, 2021   \n",
       "2                                      United States  September 24, 2021   \n",
       "3                            Germany, Czech Republic  September 23, 2021   \n",
       "4                                              India  September 21, 2021   \n",
       "\n",
       "   release_year rating   duration  \\\n",
       "0        1993.0  TV-MA    125 min   \n",
       "1        2021.0  TV-14  9 Seasons   \n",
       "2        2021.0  PG-13    104 min   \n",
       "3        2021.0  TV-MA    127 min   \n",
       "4        1998.0  TV-14    166 min   \n",
       "\n",
       "                                          listed_in  \\\n",
       "0  Dramas, Independent Movies, International Movies   \n",
       "1                      British TV Shows, Reality TV   \n",
       "2                                  Comedies, Dramas   \n",
       "3                      Dramas, International Movies   \n",
       "4   Comedies, International Movies, Romantic Movies   \n",
       "\n",
       "                                         description Year added  Content Age  \n",
       "0  On a photo shoot in Ghana, an American model s... 2021-09-19          4.0  \n",
       "1  A talented batch of amateur bakers face off in... 2021-09-16          4.0  \n",
       "2  A woman adjusting to life after a loss contend... 2021-09-16          4.0  \n",
       "3  After most of her family is murdered in a terr... 2021-09-16          4.0  \n",
       "4  When the father of the man she loves insists t... 2021-09-15          4.0  "
      ]
     },
     "execution_count": 611,
     "metadata": {},
     "output_type": "execute_result"
    }
   ],
   "source": [
    "df.head()"
   ]
  },
  {
   "cell_type": "code",
   "execution_count": 612,
   "id": "9d776dab",
   "metadata": {},
   "outputs": [],
   "source": [
    "df = df.dropna()"
   ]
  },
  {
   "cell_type": "code",
   "execution_count": 613,
   "id": "1445c8cb",
   "metadata": {},
   "outputs": [
    {
     "data": {
      "text/html": [
       "<div>\n",
       "<style scoped>\n",
       "    .dataframe tbody tr th:only-of-type {\n",
       "        vertical-align: middle;\n",
       "    }\n",
       "\n",
       "    .dataframe tbody tr th {\n",
       "        vertical-align: top;\n",
       "    }\n",
       "\n",
       "    .dataframe thead th {\n",
       "        text-align: right;\n",
       "    }\n",
       "</style>\n",
       "<table border=\"1\" class=\"dataframe\">\n",
       "  <thead>\n",
       "    <tr style=\"text-align: right;\">\n",
       "      <th></th>\n",
       "      <th>show_id</th>\n",
       "      <th>type</th>\n",
       "      <th>title</th>\n",
       "      <th>director</th>\n",
       "      <th>cast</th>\n",
       "      <th>country</th>\n",
       "      <th>date_added</th>\n",
       "      <th>release_year</th>\n",
       "      <th>rating</th>\n",
       "      <th>duration</th>\n",
       "      <th>listed_in</th>\n",
       "      <th>description</th>\n",
       "      <th>Year added</th>\n",
       "      <th>Content Age</th>\n",
       "    </tr>\n",
       "  </thead>\n",
       "  <tbody>\n",
       "    <tr>\n",
       "      <th>0</th>\n",
       "      <td>s8</td>\n",
       "      <td>Movie</td>\n",
       "      <td>Sankofa</td>\n",
       "      <td>Haile Gerima</td>\n",
       "      <td>Kofi Ghanaba, Oyafunmike Ogunlano, Alexandra D...</td>\n",
       "      <td>United States, Ghana, Burkina Faso, United Kin...</td>\n",
       "      <td>September 24, 2021</td>\n",
       "      <td>1993.0</td>\n",
       "      <td>TV-MA</td>\n",
       "      <td>125 min</td>\n",
       "      <td>Dramas, Independent Movies, International Movies</td>\n",
       "      <td>On a photo shoot in Ghana, an American model s...</td>\n",
       "      <td>2021-09-19</td>\n",
       "      <td>4.0</td>\n",
       "    </tr>\n",
       "    <tr>\n",
       "      <th>1</th>\n",
       "      <td>s9</td>\n",
       "      <td>TV Show</td>\n",
       "      <td>The Great British Baking Show</td>\n",
       "      <td>Andy Devonshire</td>\n",
       "      <td>Mel Giedroyc, Sue Perkins, Mary Berry, Paul Ho...</td>\n",
       "      <td>United Kingdom</td>\n",
       "      <td>September 24, 2021</td>\n",
       "      <td>2021.0</td>\n",
       "      <td>TV-14</td>\n",
       "      <td>9 Seasons</td>\n",
       "      <td>British TV Shows, Reality TV</td>\n",
       "      <td>A talented batch of amateur bakers face off in...</td>\n",
       "      <td>2021-09-16</td>\n",
       "      <td>4.0</td>\n",
       "    </tr>\n",
       "    <tr>\n",
       "      <th>2</th>\n",
       "      <td>s10</td>\n",
       "      <td>Movie</td>\n",
       "      <td>The Starling</td>\n",
       "      <td>Theodore Melfi</td>\n",
       "      <td>Melissa McCarthy, Chris O'Dowd, Kevin Kline, T...</td>\n",
       "      <td>United States</td>\n",
       "      <td>September 24, 2021</td>\n",
       "      <td>2021.0</td>\n",
       "      <td>PG-13</td>\n",
       "      <td>104 min</td>\n",
       "      <td>Comedies, Dramas</td>\n",
       "      <td>A woman adjusting to life after a loss contend...</td>\n",
       "      <td>2021-09-16</td>\n",
       "      <td>4.0</td>\n",
       "    </tr>\n",
       "    <tr>\n",
       "      <th>3</th>\n",
       "      <td>s13</td>\n",
       "      <td>Movie</td>\n",
       "      <td>Je Suis Karl</td>\n",
       "      <td>Christian Schwochow</td>\n",
       "      <td>Luna Wedler, Jannis Niewöhner, Milan Peschel, ...</td>\n",
       "      <td>Germany, Czech Republic</td>\n",
       "      <td>September 23, 2021</td>\n",
       "      <td>2021.0</td>\n",
       "      <td>TV-MA</td>\n",
       "      <td>127 min</td>\n",
       "      <td>Dramas, International Movies</td>\n",
       "      <td>After most of her family is murdered in a terr...</td>\n",
       "      <td>2021-09-16</td>\n",
       "      <td>4.0</td>\n",
       "    </tr>\n",
       "    <tr>\n",
       "      <th>4</th>\n",
       "      <td>s25</td>\n",
       "      <td>Movie</td>\n",
       "      <td>Jeans</td>\n",
       "      <td>S. Shankar</td>\n",
       "      <td>Prashanth, Aishwarya Rai Bachchan, Sri Lakshmi...</td>\n",
       "      <td>India</td>\n",
       "      <td>September 21, 2021</td>\n",
       "      <td>1998.0</td>\n",
       "      <td>TV-14</td>\n",
       "      <td>166 min</td>\n",
       "      <td>Comedies, International Movies, Romantic Movies</td>\n",
       "      <td>When the father of the man she loves insists t...</td>\n",
       "      <td>2021-09-15</td>\n",
       "      <td>4.0</td>\n",
       "    </tr>\n",
       "  </tbody>\n",
       "</table>\n",
       "</div>"
      ],
      "text/plain": [
       "  show_id     type                          title             director  \\\n",
       "0      s8    Movie                        Sankofa         Haile Gerima   \n",
       "1      s9  TV Show  The Great British Baking Show      Andy Devonshire   \n",
       "2     s10    Movie                   The Starling       Theodore Melfi   \n",
       "3     s13    Movie                   Je Suis Karl  Christian Schwochow   \n",
       "4     s25    Movie                          Jeans           S. Shankar   \n",
       "\n",
       "                                                cast  \\\n",
       "0  Kofi Ghanaba, Oyafunmike Ogunlano, Alexandra D...   \n",
       "1  Mel Giedroyc, Sue Perkins, Mary Berry, Paul Ho...   \n",
       "2  Melissa McCarthy, Chris O'Dowd, Kevin Kline, T...   \n",
       "3  Luna Wedler, Jannis Niewöhner, Milan Peschel, ...   \n",
       "4  Prashanth, Aishwarya Rai Bachchan, Sri Lakshmi...   \n",
       "\n",
       "                                             country          date_added  \\\n",
       "0  United States, Ghana, Burkina Faso, United Kin...  September 24, 2021   \n",
       "1                                     United Kingdom  September 24, 2021   \n",
       "2                                      United States  September 24, 2021   \n",
       "3                            Germany, Czech Republic  September 23, 2021   \n",
       "4                                              India  September 21, 2021   \n",
       "\n",
       "   release_year rating   duration  \\\n",
       "0        1993.0  TV-MA    125 min   \n",
       "1        2021.0  TV-14  9 Seasons   \n",
       "2        2021.0  PG-13    104 min   \n",
       "3        2021.0  TV-MA    127 min   \n",
       "4        1998.0  TV-14    166 min   \n",
       "\n",
       "                                          listed_in  \\\n",
       "0  Dramas, Independent Movies, International Movies   \n",
       "1                      British TV Shows, Reality TV   \n",
       "2                                  Comedies, Dramas   \n",
       "3                      Dramas, International Movies   \n",
       "4   Comedies, International Movies, Romantic Movies   \n",
       "\n",
       "                                         description Year added  Content Age  \n",
       "0  On a photo shoot in Ghana, an American model s... 2021-09-19          4.0  \n",
       "1  A talented batch of amateur bakers face off in... 2021-09-16          4.0  \n",
       "2  A woman adjusting to life after a loss contend... 2021-09-16          4.0  \n",
       "3  After most of her family is murdered in a terr... 2021-09-16          4.0  \n",
       "4  When the father of the man she loves insists t... 2021-09-15          4.0  "
      ]
     },
     "execution_count": 613,
     "metadata": {},
     "output_type": "execute_result"
    }
   ],
   "source": [
    "df.head()"
   ]
  },
  {
   "cell_type": "code",
   "execution_count": 624,
   "id": "f77cfd2d",
   "metadata": {},
   "outputs": [],
   "source": [
    "content_age_cat = []"
   ]
  },
  {
   "cell_type": "code",
   "execution_count": 625,
   "id": "a0300f42",
   "metadata": {},
   "outputs": [],
   "source": [
    "content_age_dummy = df[\"Content Age\"].to_numpy()"
   ]
  },
  {
   "cell_type": "code",
   "execution_count": 626,
   "id": "fa225e1f",
   "metadata": {},
   "outputs": [],
   "source": [
    "for i in content_age_dummy:\n",
    "    if int(i) <= 4:\n",
    "        content_age_cat.append(\"Recent\")\n",
    "    elif int(i) <= 12:\n",
    "        content_age_cat.append(\"Modern\")\n",
    "    else:\n",
    "        content_age_cat.append(\"Classic\")"
   ]
  },
  {
   "cell_type": "code",
   "execution_count": 627,
   "id": "2b5d45c3",
   "metadata": {},
   "outputs": [
    {
     "name": "stdout",
     "output_type": "stream",
     "text": [
      "['Recent', 'Recent', 'Recent', 'Recent', 'Recent', 'Recent', 'Recent', 'Recent', 'Recent', 'Recent', 'Recent', 'Recent', 'Recent', 'Recent', 'Recent', 'Recent', 'Recent', 'Recent', 'Recent', 'Recent', 'Recent', 'Recent', 'Recent', 'Recent', 'Recent', 'Recent', 'Recent', 'Recent', 'Recent', 'Recent', 'Recent', 'Recent', 'Recent', 'Recent', 'Recent', 'Recent', 'Recent', 'Recent', 'Recent', 'Recent', 'Recent', 'Recent', 'Recent', 'Recent', 'Recent', 'Recent', 'Recent', 'Recent', 'Recent', 'Recent', 'Recent', 'Recent', 'Recent', 'Recent', 'Recent', 'Recent', 'Recent', 'Recent', 'Recent', 'Recent', 'Recent', 'Recent', 'Recent', 'Recent', 'Recent', 'Recent', 'Recent', 'Recent', 'Recent', 'Recent', 'Recent', 'Recent', 'Recent', 'Recent', 'Recent', 'Recent', 'Recent', 'Recent', 'Recent', 'Recent', 'Recent', 'Recent', 'Recent', 'Recent', 'Recent', 'Recent', 'Recent', 'Recent', 'Recent', 'Recent', 'Recent', 'Recent', 'Recent', 'Recent', 'Recent', 'Recent', 'Recent', 'Recent', 'Recent', 'Recent', 'Recent', 'Recent', 'Recent', 'Recent', 'Recent', 'Recent', 'Recent', 'Recent', 'Recent', 'Recent', 'Recent', 'Recent', 'Recent', 'Recent', 'Recent', 'Recent', 'Recent', 'Recent', 'Recent', 'Recent', 'Recent', 'Recent', 'Recent', 'Recent', 'Recent', 'Recent', 'Recent', 'Recent', 'Recent', 'Recent', 'Recent', 'Recent', 'Recent', 'Recent', 'Recent', 'Recent', 'Recent', 'Recent', 'Recent', 'Recent', 'Recent', 'Recent', 'Recent', 'Recent', 'Recent', 'Recent', 'Recent', 'Recent', 'Recent', 'Recent', 'Recent', 'Recent', 'Recent', 'Recent', 'Recent', 'Recent', 'Recent', 'Recent', 'Recent', 'Recent', 'Recent', 'Recent', 'Recent', 'Recent', 'Recent', 'Recent', 'Recent', 'Recent', 'Recent', 'Recent', 'Recent', 'Recent', 'Recent', 'Recent', 'Recent', 'Recent', 'Recent', 'Recent', 'Recent', 'Recent', 'Recent', 'Recent', 'Recent', 'Recent', 'Recent', 'Recent', 'Recent', 'Recent', 'Recent', 'Recent', 'Recent', 'Recent', 'Recent', 'Recent', 'Recent', 'Recent', 'Recent', 'Recent', 'Recent', 'Recent', 'Recent', 'Recent', 'Recent', 'Recent', 'Recent', 'Recent', 'Recent', 'Recent', 'Recent', 'Recent', 'Recent', 'Recent', 'Recent', 'Recent', 'Recent', 'Recent', 'Recent', 'Recent', 'Recent', 'Recent', 'Recent', 'Recent', 'Recent', 'Recent', 'Recent', 'Recent', 'Recent', 'Recent', 'Recent', 'Recent', 'Recent', 'Recent', 'Recent', 'Recent', 'Recent', 'Recent', 'Recent', 'Recent', 'Recent', 'Recent', 'Recent', 'Recent', 'Recent', 'Recent', 'Recent', 'Recent', 'Recent', 'Recent', 'Recent', 'Recent', 'Recent', 'Recent', 'Recent', 'Recent', 'Recent', 'Recent', 'Recent', 'Recent', 'Recent', 'Recent', 'Recent', 'Recent', 'Recent', 'Recent', 'Recent', 'Recent', 'Recent', 'Recent', 'Recent', 'Recent', 'Recent', 'Recent', 'Recent', 'Recent', 'Recent', 'Recent', 'Recent', 'Recent', 'Recent', 'Recent', 'Recent', 'Recent', 'Recent', 'Recent', 'Recent', 'Recent', 'Recent', 'Recent', 'Recent', 'Recent', 'Recent', 'Recent', 'Recent', 'Recent', 'Recent', 'Recent', 'Recent', 'Recent', 'Recent', 'Recent', 'Recent', 'Recent', 'Recent', 'Recent', 'Recent', 'Modern', 'Modern', 'Modern', 'Modern', 'Modern', 'Modern', 'Modern', 'Modern', 'Modern', 'Modern', 'Modern', 'Modern', 'Modern', 'Modern', 'Modern', 'Modern', 'Modern', 'Modern', 'Modern', 'Modern', 'Modern', 'Modern', 'Modern', 'Modern', 'Modern', 'Modern', 'Modern', 'Modern', 'Modern', 'Modern', 'Modern', 'Modern', 'Modern', 'Modern', 'Modern', 'Modern', 'Modern', 'Modern', 'Modern', 'Modern', 'Modern', 'Modern', 'Modern', 'Modern', 'Modern', 'Modern', 'Modern', 'Modern', 'Modern', 'Modern', 'Modern', 'Modern', 'Modern', 'Modern', 'Modern', 'Modern', 'Modern', 'Modern', 'Modern', 'Modern', 'Modern', 'Modern', 'Modern', 'Modern', 'Modern', 'Modern', 'Modern', 'Modern', 'Modern', 'Modern', 'Modern', 'Modern', 'Modern', 'Modern', 'Modern', 'Modern', 'Modern', 'Modern', 'Modern', 'Modern', 'Modern', 'Modern', 'Modern', 'Modern', 'Modern', 'Modern', 'Modern', 'Modern', 'Modern', 'Modern', 'Modern', 'Modern', 'Modern', 'Modern', 'Modern', 'Modern', 'Modern', 'Modern', 'Modern', 'Modern', 'Modern', 'Modern', 'Modern', 'Modern', 'Modern', 'Modern', 'Modern', 'Modern', 'Modern', 'Modern', 'Modern', 'Modern', 'Modern', 'Modern', 'Modern', 'Modern', 'Modern', 'Modern', 'Modern', 'Modern', 'Modern', 'Modern', 'Modern', 'Modern', 'Modern', 'Modern', 'Modern', 'Modern', 'Modern', 'Modern', 'Modern', 'Modern', 'Modern', 'Modern', 'Modern', 'Modern', 'Modern', 'Modern', 'Modern', 'Modern', 'Modern', 'Modern', 'Modern', 'Modern', 'Modern', 'Modern', 'Modern', 'Modern', 'Modern', 'Modern', 'Modern', 'Modern', 'Modern', 'Modern', 'Modern', 'Modern', 'Modern', 'Modern', 'Modern', 'Modern', 'Modern', 'Modern', 'Modern', 'Modern', 'Modern', 'Modern', 'Modern', 'Modern', 'Modern', 'Modern', 'Modern', 'Modern', 'Modern', 'Modern', 'Modern', 'Modern', 'Modern', 'Modern', 'Modern', 'Modern', 'Modern', 'Modern', 'Modern', 'Modern', 'Modern', 'Modern', 'Modern', 'Modern', 'Modern', 'Modern', 'Modern', 'Modern', 'Modern', 'Modern', 'Modern', 'Modern', 'Modern', 'Modern', 'Modern', 'Modern', 'Modern', 'Modern', 'Modern', 'Modern', 'Modern', 'Modern', 'Modern', 'Modern', 'Modern', 'Modern', 'Modern', 'Modern', 'Modern', 'Modern', 'Modern', 'Modern', 'Modern', 'Modern', 'Modern', 'Modern', 'Modern', 'Modern', 'Modern', 'Modern', 'Modern', 'Modern', 'Modern', 'Modern', 'Modern', 'Modern', 'Modern', 'Modern', 'Modern', 'Modern', 'Modern', 'Modern', 'Modern', 'Modern', 'Modern', 'Modern', 'Modern', 'Modern', 'Modern', 'Modern', 'Modern', 'Modern', 'Modern', 'Modern', 'Modern', 'Modern', 'Modern', 'Modern', 'Modern', 'Modern', 'Modern', 'Modern', 'Modern', 'Modern', 'Modern', 'Modern', 'Modern', 'Modern', 'Modern', 'Modern', 'Modern', 'Modern', 'Modern', 'Modern', 'Modern', 'Modern', 'Modern', 'Modern', 'Modern', 'Modern', 'Modern', 'Modern', 'Modern', 'Modern', 'Modern', 'Modern', 'Modern', 'Modern', 'Modern', 'Modern', 'Modern', 'Modern', 'Modern', 'Modern', 'Modern', 'Modern', 'Modern', 'Modern', 'Modern', 'Modern', 'Modern', 'Modern', 'Modern', 'Modern', 'Modern', 'Modern', 'Modern', 'Modern', 'Modern', 'Modern', 'Modern', 'Modern', 'Modern', 'Modern', 'Modern', 'Modern', 'Modern', 'Modern', 'Modern', 'Modern', 'Modern', 'Modern', 'Modern', 'Modern', 'Modern', 'Modern', 'Modern', 'Modern', 'Modern', 'Modern', 'Modern', 'Modern', 'Modern', 'Modern', 'Modern', 'Modern', 'Modern', 'Modern', 'Modern', 'Modern', 'Modern', 'Modern', 'Modern', 'Modern', 'Modern', 'Modern', 'Modern', 'Modern', 'Modern', 'Modern', 'Modern', 'Modern', 'Modern', 'Modern', 'Modern', 'Modern', 'Modern', 'Modern', 'Modern', 'Modern', 'Modern', 'Modern', 'Modern', 'Modern', 'Modern', 'Modern', 'Modern', 'Modern', 'Modern', 'Modern', 'Modern', 'Modern', 'Modern', 'Modern', 'Modern', 'Modern', 'Modern', 'Modern', 'Modern', 'Modern', 'Modern', 'Modern', 'Modern', 'Modern', 'Modern', 'Modern', 'Modern', 'Modern', 'Modern', 'Modern', 'Modern', 'Modern', 'Modern', 'Modern', 'Modern', 'Modern', 'Modern', 'Modern', 'Modern', 'Modern', 'Modern', 'Modern', 'Modern', 'Modern', 'Modern', 'Modern', 'Modern', 'Modern', 'Modern', 'Modern', 'Modern', 'Modern', 'Modern', 'Modern', 'Modern', 'Modern', 'Modern', 'Modern', 'Modern', 'Modern', 'Modern', 'Modern', 'Modern', 'Modern', 'Modern', 'Modern', 'Modern', 'Modern', 'Modern', 'Modern', 'Modern', 'Modern', 'Modern', 'Modern', 'Modern', 'Modern', 'Modern', 'Modern', 'Modern', 'Modern', 'Modern', 'Modern', 'Modern', 'Modern', 'Modern', 'Modern', 'Modern', 'Modern', 'Modern', 'Modern', 'Modern', 'Modern', 'Modern', 'Modern', 'Modern', 'Modern', 'Modern', 'Modern', 'Modern', 'Modern', 'Modern', 'Modern', 'Modern', 'Modern', 'Modern', 'Modern', 'Modern', 'Modern', 'Modern', 'Modern', 'Modern', 'Modern', 'Modern', 'Modern', 'Modern', 'Modern', 'Modern', 'Modern', 'Modern', 'Modern', 'Modern', 'Modern', 'Modern', 'Modern', 'Modern', 'Modern', 'Modern', 'Modern', 'Modern', 'Modern', 'Modern', 'Modern', 'Modern', 'Modern', 'Modern', 'Modern', 'Modern', 'Modern', 'Modern', 'Modern', 'Modern', 'Modern', 'Modern', 'Modern', 'Modern', 'Modern', 'Modern', 'Modern', 'Modern', 'Modern', 'Modern', 'Modern', 'Modern', 'Modern', 'Modern', 'Modern', 'Modern', 'Modern', 'Modern', 'Modern', 'Modern', 'Modern', 'Modern', 'Modern', 'Modern', 'Modern', 'Modern', 'Modern', 'Modern', 'Modern', 'Modern', 'Modern', 'Modern', 'Modern', 'Modern', 'Modern', 'Modern', 'Modern', 'Modern', 'Modern', 'Modern', 'Modern', 'Modern', 'Modern', 'Modern', 'Modern', 'Modern', 'Modern', 'Modern', 'Modern', 'Modern', 'Modern', 'Modern', 'Modern', 'Modern', 'Modern', 'Modern', 'Modern', 'Modern', 'Modern', 'Modern', 'Modern', 'Modern', 'Modern', 'Modern', 'Modern', 'Modern', 'Modern', 'Modern', 'Modern', 'Modern', 'Modern', 'Modern', 'Modern', 'Modern', 'Modern', 'Modern', 'Modern', 'Modern', 'Modern', 'Modern', 'Modern', 'Modern', 'Modern', 'Modern', 'Modern', 'Modern', 'Modern', 'Modern', 'Modern', 'Modern', 'Modern', 'Modern', 'Modern', 'Modern', 'Modern', 'Modern', 'Modern', 'Modern', 'Modern', 'Modern', 'Modern', 'Modern', 'Modern', 'Modern', 'Modern', 'Modern', 'Modern', 'Modern', 'Modern', 'Modern', 'Modern', 'Modern', 'Modern', 'Modern', 'Modern', 'Modern', 'Modern', 'Modern', 'Modern', 'Modern', 'Modern', 'Modern', 'Modern', 'Modern', 'Modern', 'Modern', 'Modern', 'Modern', 'Modern', 'Modern', 'Modern', 'Modern', 'Modern', 'Modern', 'Modern', 'Modern', 'Modern', 'Modern', 'Modern', 'Modern', 'Modern', 'Modern', 'Modern', 'Modern', 'Modern', 'Modern', 'Modern', 'Modern', 'Modern', 'Modern', 'Modern', 'Modern', 'Modern', 'Modern', 'Modern', 'Modern', 'Modern', 'Modern', 'Modern', 'Modern', 'Modern', 'Modern', 'Modern', 'Modern', 'Modern', 'Modern', 'Modern', 'Modern', 'Modern', 'Modern', 'Modern', 'Modern', 'Modern', 'Modern', 'Modern', 'Modern', 'Modern', 'Modern', 'Modern', 'Modern', 'Modern', 'Modern', 'Modern', 'Modern', 'Modern', 'Modern', 'Modern', 'Modern', 'Modern', 'Modern', 'Modern', 'Modern', 'Modern', 'Modern', 'Modern', 'Modern', 'Modern', 'Modern', 'Modern', 'Modern', 'Modern', 'Modern', 'Modern', 'Modern', 'Modern', 'Modern', 'Modern', 'Modern', 'Modern', 'Modern', 'Modern', 'Modern', 'Modern', 'Modern', 'Modern', 'Modern', 'Modern', 'Modern', 'Modern', 'Modern', 'Modern', 'Modern', 'Modern', 'Modern', 'Modern', 'Modern', 'Modern', 'Modern', 'Modern', 'Modern', 'Modern', 'Modern', 'Modern', 'Modern', 'Modern', 'Modern', 'Modern', 'Modern', 'Modern', 'Modern', 'Modern', 'Modern', 'Modern', 'Modern', 'Modern', 'Modern', 'Modern', 'Modern', 'Modern', 'Modern', 'Modern', 'Modern', 'Modern', 'Modern', 'Modern', 'Modern', 'Modern', 'Modern', 'Modern', 'Modern', 'Modern', 'Modern', 'Modern', 'Modern', 'Modern', 'Modern', 'Modern', 'Modern', 'Modern', 'Modern', 'Modern', 'Modern', 'Modern', 'Modern', 'Modern', 'Modern', 'Modern', 'Modern', 'Modern', 'Modern', 'Modern', 'Modern', 'Modern', 'Modern', 'Modern', 'Modern', 'Modern', 'Modern', 'Modern', 'Modern', 'Modern', 'Modern', 'Modern', 'Modern', 'Modern', 'Modern', 'Modern', 'Modern', 'Modern', 'Modern', 'Modern', 'Modern', 'Modern', 'Modern', 'Modern', 'Modern', 'Modern', 'Modern', 'Modern', 'Modern', 'Modern', 'Modern', 'Modern', 'Modern', 'Modern', 'Modern', 'Modern', 'Modern', 'Modern', 'Modern', 'Modern', 'Modern', 'Modern', 'Modern', 'Modern', 'Modern', 'Modern', 'Modern', 'Modern', 'Modern', 'Modern', 'Modern', 'Modern', 'Modern', 'Modern', 'Modern', 'Modern', 'Modern', 'Modern', 'Modern', 'Modern', 'Modern', 'Modern', 'Modern', 'Modern', 'Modern', 'Modern', 'Modern', 'Modern', 'Modern', 'Modern', 'Modern', 'Modern', 'Modern', 'Modern', 'Modern', 'Modern', 'Modern', 'Modern', 'Modern', 'Modern', 'Modern', 'Modern', 'Modern', 'Modern', 'Modern', 'Modern', 'Modern', 'Modern', 'Modern', 'Modern', 'Modern', 'Modern', 'Modern', 'Modern', 'Modern', 'Modern', 'Modern', 'Modern', 'Modern', 'Modern', 'Modern', 'Modern', 'Modern', 'Modern', 'Modern', 'Modern', 'Modern', 'Modern', 'Modern', 'Modern', 'Modern', 'Modern', 'Modern', 'Modern', 'Modern', 'Modern', 'Modern', 'Modern', 'Modern', 'Modern', 'Modern', 'Modern', 'Modern', 'Modern', 'Modern', 'Modern', 'Modern', 'Modern', 'Modern', 'Modern', 'Modern', 'Modern', 'Modern', 'Modern', 'Modern', 'Modern', 'Modern', 'Modern', 'Modern', 'Modern', 'Modern', 'Modern', 'Modern', 'Modern', 'Modern', 'Modern', 'Modern', 'Modern', 'Modern', 'Modern', 'Modern', 'Modern', 'Modern', 'Modern', 'Modern', 'Modern', 'Modern', 'Modern', 'Modern', 'Modern', 'Modern', 'Modern', 'Modern', 'Modern', 'Modern', 'Modern', 'Modern', 'Modern', 'Modern', 'Modern', 'Modern', 'Modern', 'Modern', 'Modern', 'Modern', 'Modern', 'Modern', 'Modern', 'Modern', 'Modern', 'Modern', 'Modern', 'Modern', 'Modern', 'Modern', 'Modern', 'Modern', 'Modern', 'Modern', 'Modern', 'Modern', 'Modern', 'Modern', 'Modern', 'Modern', 'Modern', 'Modern', 'Modern', 'Modern', 'Modern', 'Modern', 'Modern', 'Modern', 'Modern', 'Modern', 'Modern', 'Modern', 'Modern', 'Modern', 'Modern', 'Modern', 'Modern', 'Modern', 'Modern', 'Modern', 'Modern', 'Modern', 'Modern', 'Modern', 'Modern', 'Modern', 'Modern', 'Modern', 'Modern', 'Modern', 'Modern', 'Modern', 'Modern', 'Modern', 'Modern', 'Modern', 'Modern', 'Modern', 'Modern', 'Modern', 'Modern', 'Modern', 'Modern', 'Modern', 'Modern', 'Modern', 'Modern', 'Modern', 'Modern', 'Modern', 'Modern', 'Modern', 'Modern', 'Modern', 'Modern', 'Modern', 'Modern', 'Modern', 'Modern', 'Modern', 'Modern', 'Modern', 'Modern', 'Modern', 'Modern', 'Modern', 'Modern', 'Modern', 'Modern', 'Modern', 'Modern', 'Modern', 'Modern', 'Modern', 'Modern', 'Modern', 'Modern', 'Modern', 'Modern', 'Modern', 'Modern', 'Modern', 'Modern', 'Modern', 'Modern', 'Modern', 'Modern', 'Modern', 'Modern', 'Modern', 'Modern', 'Modern', 'Modern', 'Modern', 'Modern', 'Modern', 'Modern', 'Modern', 'Modern', 'Modern', 'Modern', 'Modern', 'Modern', 'Modern', 'Modern', 'Modern', 'Modern', 'Modern', 'Modern', 'Modern', 'Modern', 'Modern', 'Modern', 'Modern', 'Modern', 'Modern', 'Modern', 'Modern', 'Modern', 'Modern', 'Modern', 'Modern', 'Modern', 'Modern', 'Modern', 'Modern', 'Modern', 'Modern', 'Modern', 'Modern', 'Modern', 'Modern', 'Modern', 'Modern', 'Modern', 'Modern', 'Modern', 'Modern', 'Modern', 'Modern', 'Modern', 'Modern', 'Modern', 'Modern', 'Modern', 'Modern', 'Modern', 'Modern', 'Modern', 'Modern', 'Modern', 'Modern', 'Modern', 'Modern', 'Modern', 'Modern', 'Modern', 'Modern', 'Modern', 'Modern', 'Modern', 'Modern', 'Modern', 'Modern', 'Modern', 'Modern', 'Modern', 'Modern', 'Modern', 'Modern', 'Modern', 'Modern', 'Modern', 'Modern', 'Modern', 'Modern', 'Modern', 'Modern', 'Modern', 'Modern', 'Modern', 'Modern', 'Modern', 'Modern', 'Modern', 'Modern', 'Modern', 'Modern', 'Modern', 'Modern', 'Modern', 'Modern', 'Modern', 'Modern', 'Modern', 'Modern', 'Modern', 'Modern', 'Modern', 'Modern', 'Modern', 'Modern', 'Modern', 'Modern', 'Modern', 'Modern', 'Modern', 'Modern', 'Modern', 'Modern', 'Modern', 'Modern', 'Modern', 'Modern', 'Modern', 'Modern', 'Modern', 'Modern', 'Modern', 'Modern', 'Modern', 'Modern', 'Modern', 'Modern', 'Modern', 'Modern', 'Modern', 'Modern', 'Modern', 'Modern', 'Modern', 'Modern', 'Modern', 'Modern', 'Modern', 'Modern', 'Modern', 'Modern', 'Modern', 'Modern', 'Modern', 'Modern', 'Modern', 'Modern', 'Modern', 'Modern', 'Modern', 'Modern', 'Modern', 'Modern', 'Modern', 'Modern', 'Modern', 'Modern', 'Modern', 'Modern', 'Modern', 'Modern', 'Modern', 'Modern', 'Modern', 'Modern', 'Modern', 'Modern', 'Modern', 'Modern', 'Modern', 'Modern', 'Modern', 'Modern', 'Modern', 'Modern', 'Modern', 'Modern', 'Modern', 'Modern', 'Modern', 'Modern', 'Modern', 'Modern', 'Modern', 'Modern', 'Modern', 'Modern', 'Modern', 'Modern', 'Modern', 'Modern', 'Modern', 'Modern', 'Modern', 'Modern', 'Modern', 'Modern', 'Modern', 'Modern', 'Modern', 'Modern', 'Modern', 'Modern', 'Modern', 'Modern', 'Modern', 'Modern', 'Modern', 'Modern', 'Modern', 'Modern', 'Modern', 'Modern', 'Modern', 'Modern', 'Modern', 'Modern', 'Modern', 'Modern', 'Modern', 'Modern', 'Modern', 'Modern', 'Modern', 'Modern', 'Modern', 'Modern', 'Modern', 'Modern', 'Modern', 'Modern', 'Modern', 'Modern', 'Modern', 'Modern', 'Modern', 'Modern', 'Modern', 'Modern', 'Modern', 'Modern', 'Modern', 'Modern', 'Modern', 'Modern', 'Modern', 'Modern', 'Modern', 'Modern', 'Modern', 'Modern', 'Modern', 'Modern', 'Modern', 'Modern', 'Modern', 'Modern', 'Modern', 'Modern', 'Modern', 'Modern', 'Modern', 'Modern', 'Modern', 'Modern', 'Modern', 'Modern', 'Modern', 'Modern', 'Modern', 'Modern', 'Modern', 'Modern', 'Modern', 'Modern', 'Modern', 'Modern', 'Modern', 'Modern', 'Modern', 'Modern', 'Modern', 'Modern', 'Modern', 'Modern', 'Modern', 'Modern', 'Modern', 'Modern', 'Modern', 'Modern', 'Modern', 'Modern', 'Modern', 'Modern', 'Modern', 'Modern', 'Modern', 'Modern', 'Modern', 'Modern', 'Modern', 'Modern', 'Modern', 'Modern', 'Modern', 'Modern', 'Modern', 'Modern', 'Modern', 'Modern', 'Modern', 'Modern', 'Modern', 'Modern', 'Modern', 'Modern', 'Modern', 'Modern', 'Modern', 'Modern', 'Modern', 'Modern', 'Modern', 'Modern', 'Modern', 'Modern', 'Modern', 'Modern', 'Modern', 'Modern', 'Modern', 'Modern', 'Modern', 'Modern', 'Modern', 'Modern', 'Modern', 'Modern', 'Modern', 'Modern', 'Modern', 'Modern', 'Modern', 'Modern', 'Modern', 'Modern', 'Modern', 'Modern', 'Modern', 'Modern', 'Modern', 'Modern', 'Modern', 'Modern', 'Modern', 'Modern', 'Modern', 'Modern', 'Modern', 'Modern', 'Modern', 'Modern', 'Modern', 'Modern', 'Modern', 'Modern', 'Modern', 'Modern', 'Modern', 'Modern', 'Modern', 'Modern', 'Modern', 'Modern', 'Modern', 'Modern', 'Modern', 'Modern', 'Modern', 'Modern', 'Modern', 'Modern', 'Modern', 'Modern', 'Modern', 'Modern', 'Modern', 'Modern', 'Modern', 'Modern', 'Modern', 'Modern', 'Modern', 'Modern', 'Modern', 'Modern', 'Modern', 'Modern', 'Modern', 'Modern', 'Modern', 'Modern', 'Modern', 'Modern', 'Modern', 'Modern', 'Modern', 'Modern', 'Modern', 'Modern', 'Modern', 'Modern', 'Modern', 'Modern', 'Modern', 'Modern', 'Modern', 'Modern', 'Modern', 'Modern', 'Modern', 'Modern', 'Modern', 'Modern', 'Modern', 'Modern', 'Modern', 'Modern', 'Modern', 'Modern', 'Modern', 'Modern', 'Modern', 'Classic', 'Classic', 'Classic', 'Classic', 'Classic', 'Classic', 'Classic', 'Classic', 'Classic', 'Classic', 'Classic', 'Modern', 'Modern', 'Modern', 'Modern', 'Modern', 'Modern', 'Modern', 'Modern', 'Modern', 'Modern', 'Modern', 'Modern', 'Modern', 'Modern', 'Modern', 'Recent', 'Modern', 'Modern', 'Modern', 'Recent', 'Modern', 'Modern', 'Modern', 'Modern', 'Modern', 'Modern', 'Modern', 'Modern', 'Modern', 'Modern', 'Modern', 'Modern', 'Modern', 'Modern', 'Modern', 'Modern', 'Modern', 'Modern', 'Modern', 'Modern', 'Modern', 'Modern', 'Modern', 'Modern', 'Modern', 'Modern', 'Modern', 'Modern', 'Modern', 'Modern', 'Modern', 'Modern', 'Modern', 'Modern', 'Modern', 'Modern', 'Modern', 'Modern', 'Modern', 'Modern', 'Modern', 'Modern', 'Modern', 'Modern', 'Modern', 'Modern', 'Modern', 'Modern', 'Modern', 'Modern', 'Modern', 'Modern', 'Modern', 'Modern', 'Modern', 'Modern', 'Modern', 'Modern', 'Modern', 'Modern', 'Modern', 'Modern', 'Modern', 'Modern', 'Modern', 'Modern', 'Modern', 'Modern', 'Modern', 'Modern', 'Modern', 'Modern', 'Modern', 'Modern', 'Modern', 'Modern', 'Modern', 'Modern', 'Modern', 'Modern', 'Modern', 'Modern', 'Modern', 'Modern', 'Modern', 'Modern', 'Modern', 'Modern', 'Modern', 'Modern', 'Modern', 'Modern', 'Modern', 'Modern', 'Modern', 'Modern', 'Modern', 'Modern', 'Modern', 'Modern', 'Modern', 'Modern', 'Modern', 'Modern', 'Modern', 'Modern', 'Modern', 'Modern', 'Modern', 'Modern', 'Modern', 'Modern', 'Modern', 'Modern', 'Modern', 'Modern', 'Modern', 'Modern', 'Modern', 'Modern', 'Modern', 'Modern', 'Modern', 'Recent', 'Modern', 'Modern', 'Modern', 'Modern', 'Modern', 'Modern', 'Modern', 'Modern', 'Modern', 'Modern', 'Modern', 'Modern', 'Modern', 'Modern', 'Modern', 'Modern', 'Modern', 'Modern', 'Modern', 'Modern', 'Modern', 'Modern', 'Modern', 'Modern', 'Classic', 'Modern', 'Modern', 'Modern', 'Modern', 'Modern', 'Modern', 'Modern', 'Modern', 'Modern', 'Modern', 'Modern', 'Modern', 'Modern', 'Modern', 'Modern', 'Modern', 'Modern', 'Modern', 'Modern', 'Modern', 'Modern', 'Modern', 'Modern', 'Modern', 'Recent', 'Modern', 'Modern', 'Modern', 'Modern', 'Modern', 'Modern', 'Modern', 'Modern', 'Modern', 'Modern', 'Modern', 'Modern', 'Modern', 'Modern', 'Modern', 'Modern', 'Modern', 'Modern', 'Modern', 'Modern', 'Modern', 'Modern', 'Modern', 'Modern', 'Modern', 'Modern', 'Modern', 'Modern', 'Modern', 'Modern', 'Modern', 'Modern', 'Modern', 'Modern', 'Modern', 'Modern', 'Modern', 'Modern', 'Modern', 'Modern', 'Modern', 'Modern', 'Modern', 'Modern', 'Modern', 'Modern', 'Modern', 'Modern', 'Modern', 'Modern', 'Modern', 'Modern', 'Modern', 'Modern', 'Modern', 'Modern', 'Modern', 'Modern', 'Modern', 'Modern', 'Modern', 'Modern', 'Modern', 'Modern', 'Modern', 'Modern', 'Modern', 'Modern', 'Modern', 'Modern', 'Modern', 'Modern', 'Modern', 'Modern', 'Modern', 'Modern', 'Modern', 'Recent', 'Modern', 'Modern', 'Modern', 'Modern', 'Recent', 'Modern', 'Modern', 'Modern', 'Modern', 'Modern', 'Modern', 'Modern', 'Modern', 'Modern', 'Modern', 'Modern', 'Modern', 'Modern', 'Modern', 'Modern', 'Modern', 'Modern', 'Modern', 'Modern', 'Modern', 'Modern', 'Modern', 'Modern', 'Modern', 'Modern', 'Modern', 'Modern', 'Modern', 'Modern', 'Modern', 'Modern', 'Recent', 'Modern', 'Modern', 'Modern', 'Modern', 'Modern', 'Modern', 'Modern', 'Modern', 'Modern', 'Modern', 'Modern', 'Modern', 'Modern', 'Modern', 'Modern', 'Modern', 'Modern', 'Modern', 'Modern', 'Modern', 'Modern', 'Modern', 'Modern', 'Modern', 'Modern', 'Modern', 'Modern', 'Modern', 'Modern', 'Modern', 'Modern', 'Modern', 'Modern', 'Modern', 'Modern', 'Modern', 'Modern', 'Modern', 'Modern', 'Modern', 'Modern', 'Modern', 'Modern', 'Modern', 'Modern', 'Modern', 'Modern', 'Modern', 'Modern', 'Modern', 'Modern', 'Modern', 'Modern', 'Modern', 'Modern', 'Modern', 'Modern', 'Modern', 'Modern', 'Modern', 'Modern', 'Modern', 'Modern', 'Modern', 'Modern', 'Modern', 'Modern', 'Modern', 'Modern', 'Modern', 'Modern', 'Modern', 'Modern', 'Modern', 'Modern', 'Modern', 'Modern', 'Modern', 'Modern', 'Modern', 'Modern', 'Modern', 'Modern', 'Modern', 'Modern', 'Modern', 'Modern', 'Modern', 'Modern', 'Modern', 'Modern', 'Modern', 'Modern', 'Modern', 'Modern', 'Modern', 'Modern', 'Modern', 'Modern', 'Modern', 'Modern', 'Modern', 'Modern', 'Modern', 'Modern', 'Modern', 'Modern', 'Modern', 'Modern', 'Modern', 'Modern', 'Modern', 'Modern', 'Modern', 'Modern', 'Modern', 'Modern', 'Modern', 'Modern', 'Modern', 'Modern', 'Modern', 'Modern', 'Modern', 'Modern', 'Modern', 'Modern', 'Modern', 'Modern', 'Modern', 'Recent', 'Modern', 'Modern', 'Modern', 'Modern', 'Modern', 'Modern', 'Modern', 'Modern', 'Modern', 'Modern', 'Modern', 'Modern', 'Modern', 'Modern', 'Modern', 'Classic', 'Modern', 'Modern', 'Modern', 'Modern', 'Modern', 'Modern', 'Modern', 'Modern', 'Modern', 'Modern', 'Modern', 'Modern', 'Modern', 'Modern', 'Modern', 'Modern', 'Modern', 'Modern', 'Modern', 'Modern', 'Modern', 'Modern', 'Modern', 'Modern', 'Modern', 'Modern', 'Modern', 'Modern', 'Modern', 'Modern', 'Modern', 'Modern', 'Modern', 'Modern', 'Modern', 'Modern', 'Modern', 'Modern', 'Modern', 'Modern', 'Modern', 'Modern', 'Modern', 'Modern', 'Modern', 'Modern', 'Modern', 'Modern', 'Modern', 'Modern', 'Modern', 'Modern', 'Modern', 'Modern', 'Modern', 'Modern', 'Modern', 'Modern', 'Modern', 'Modern', 'Modern', 'Modern', 'Modern', 'Modern', 'Modern', 'Modern', 'Modern', 'Modern', 'Modern', 'Modern', 'Modern', 'Modern', 'Modern', 'Modern', 'Modern', 'Modern', 'Modern', 'Modern', 'Modern', 'Modern', 'Modern', 'Modern', 'Modern', 'Modern', 'Modern', 'Modern', 'Modern', 'Modern', 'Modern', 'Modern', 'Modern', 'Modern', 'Modern', 'Modern', 'Modern', 'Modern', 'Modern', 'Modern', 'Modern', 'Modern', 'Modern', 'Modern', 'Modern', 'Modern', 'Recent', 'Modern', 'Modern', 'Modern', 'Modern', 'Modern', 'Modern', 'Modern', 'Modern', 'Modern', 'Modern', 'Modern', 'Modern', 'Modern', 'Modern', 'Modern', 'Modern', 'Modern', 'Modern', 'Modern', 'Modern', 'Modern', 'Modern', 'Modern', 'Modern', 'Modern', 'Modern', 'Modern', 'Modern', 'Modern', 'Modern', 'Modern', 'Modern', 'Modern', 'Modern', 'Modern', 'Modern', 'Modern', 'Modern', 'Modern', 'Modern', 'Modern', 'Modern', 'Modern', 'Modern', 'Modern', 'Modern', 'Modern', 'Modern', 'Modern', 'Modern', 'Modern', 'Modern', 'Modern', 'Modern', 'Modern', 'Modern', 'Modern', 'Modern', 'Modern', 'Modern', 'Modern', 'Modern', 'Modern', 'Modern', 'Modern', 'Modern', 'Modern', 'Modern', 'Modern', 'Modern', 'Modern', 'Modern', 'Modern', 'Modern', 'Modern', 'Modern', 'Modern', 'Modern', 'Modern', 'Modern', 'Modern', 'Modern', 'Modern', 'Modern', 'Modern', 'Modern', 'Modern', 'Modern', 'Modern', 'Modern', 'Modern', 'Modern', 'Modern', 'Modern', 'Modern', 'Modern', 'Modern', 'Modern', 'Modern', 'Modern', 'Modern', 'Modern', 'Modern', 'Modern', 'Modern', 'Modern', 'Modern', 'Modern', 'Modern', 'Modern', 'Modern', 'Modern', 'Modern', 'Modern', 'Modern', 'Modern', 'Modern', 'Modern', 'Modern', 'Modern', 'Modern', 'Modern', 'Modern', 'Modern', 'Modern', 'Modern', 'Modern', 'Modern', 'Modern', 'Modern', 'Modern', 'Modern', 'Modern', 'Modern', 'Modern', 'Modern', 'Modern', 'Modern', 'Modern', 'Modern', 'Modern', 'Modern', 'Modern', 'Modern', 'Modern', 'Modern', 'Modern', 'Modern', 'Modern', 'Modern', 'Modern', 'Modern', 'Modern', 'Modern', 'Modern', 'Modern', 'Modern', 'Modern', 'Modern', 'Modern', 'Modern', 'Modern', 'Modern', 'Modern', 'Modern', 'Modern', 'Modern', 'Modern', 'Modern', 'Modern', 'Modern', 'Modern', 'Modern', 'Modern', 'Modern', 'Modern', 'Modern', 'Modern', 'Modern', 'Modern', 'Modern', 'Modern', 'Modern', 'Modern', 'Modern', 'Modern', 'Modern', 'Modern', 'Modern', 'Modern', 'Modern', 'Modern', 'Modern', 'Modern', 'Modern', 'Modern', 'Modern', 'Modern', 'Modern', 'Modern', 'Modern', 'Modern', 'Modern', 'Modern', 'Modern', 'Modern', 'Modern', 'Modern', 'Modern', 'Modern', 'Modern', 'Modern', 'Modern', 'Modern', 'Modern', 'Modern', 'Modern', 'Modern', 'Modern', 'Modern', 'Modern', 'Modern', 'Modern', 'Modern', 'Modern', 'Modern', 'Modern', 'Modern', 'Modern', 'Modern', 'Modern', 'Modern', 'Modern', 'Modern', 'Modern', 'Modern', 'Modern', 'Modern', 'Modern', 'Recent', 'Modern', 'Modern', 'Modern', 'Modern', 'Modern', 'Modern', 'Modern', 'Modern', 'Modern', 'Modern', 'Modern', 'Modern', 'Modern', 'Modern', 'Recent', 'Modern', 'Modern', 'Modern', 'Modern', 'Modern', 'Modern', 'Modern', 'Modern', 'Modern', 'Modern', 'Modern', 'Modern', 'Modern', 'Modern', 'Modern', 'Modern', 'Modern', 'Modern', 'Modern', 'Modern', 'Modern', 'Modern', 'Modern', 'Modern', 'Modern', 'Modern', 'Modern', 'Modern', 'Modern', 'Modern', 'Modern', 'Modern', 'Modern', 'Modern', 'Recent', 'Modern', 'Modern', 'Modern', 'Modern', 'Modern', 'Modern', 'Modern', 'Modern', 'Modern', 'Modern', 'Modern', 'Modern', 'Modern', 'Modern', 'Modern', 'Modern', 'Modern', 'Modern', 'Modern', 'Modern', 'Modern', 'Modern', 'Modern', 'Modern', 'Modern', 'Modern', 'Modern', 'Modern', 'Modern', 'Modern', 'Modern', 'Modern', 'Modern', 'Modern', 'Modern', 'Modern', 'Modern', 'Modern', 'Modern', 'Recent', 'Modern', 'Modern', 'Modern', 'Modern', 'Modern', 'Modern', 'Modern', 'Modern', 'Modern', 'Modern', 'Modern', 'Modern', 'Modern', 'Modern', 'Modern', 'Modern', 'Modern', 'Modern', 'Modern', 'Modern', 'Modern', 'Modern', 'Modern', 'Recent', 'Modern', 'Modern', 'Modern', 'Modern', 'Modern', 'Modern', 'Modern', 'Modern', 'Modern', 'Modern', 'Modern', 'Modern', 'Modern', 'Modern', 'Modern', 'Modern', 'Modern', 'Modern', 'Modern', 'Modern', 'Modern', 'Modern', 'Modern', 'Modern', 'Modern', 'Modern', 'Modern', 'Modern', 'Modern', 'Modern', 'Modern', 'Modern', 'Modern', 'Modern', 'Modern', 'Modern', 'Modern', 'Modern', 'Modern', 'Modern', 'Modern', 'Modern', 'Modern', 'Modern', 'Modern', 'Modern', 'Modern', 'Modern', 'Modern', 'Modern', 'Modern', 'Modern', 'Modern', 'Modern', 'Modern', 'Modern', 'Modern', 'Modern', 'Modern', 'Modern', 'Recent', 'Modern', 'Modern', 'Modern', 'Modern', 'Modern', 'Modern', 'Modern', 'Modern', 'Modern', 'Modern', 'Modern', 'Modern', 'Modern', 'Modern', 'Modern', 'Modern', 'Modern', 'Modern', 'Modern', 'Modern', 'Modern', 'Modern', 'Modern', 'Modern', 'Modern', 'Modern', 'Modern', 'Modern', 'Modern', 'Modern', 'Modern', 'Modern', 'Modern', 'Modern', 'Modern', 'Modern', 'Modern', 'Modern', 'Modern', 'Modern', 'Modern', 'Modern', 'Modern', 'Modern', 'Modern', 'Modern', 'Modern', 'Modern', 'Modern', 'Modern', 'Modern', 'Modern', 'Modern', 'Modern', 'Modern', 'Modern', 'Modern', 'Modern', 'Modern', 'Modern', 'Modern', 'Modern', 'Modern', 'Modern', 'Modern', 'Modern', 'Modern', 'Modern', 'Modern', 'Modern', 'Modern', 'Modern', 'Modern', 'Modern', 'Modern', 'Modern', 'Modern', 'Modern', 'Modern', 'Modern', 'Modern', 'Modern', 'Modern', 'Modern', 'Modern', 'Modern', 'Modern', 'Modern', 'Modern', 'Modern', 'Modern', 'Modern', 'Modern', 'Modern', 'Modern', 'Modern', 'Modern', 'Modern', 'Modern', 'Modern', 'Modern', 'Modern', 'Modern', 'Modern', 'Modern', 'Modern', 'Modern', 'Modern', 'Modern', 'Modern', 'Modern', 'Modern', 'Modern', 'Modern', 'Modern', 'Modern', 'Modern', 'Modern', 'Modern', 'Modern', 'Modern', 'Modern', 'Modern', 'Modern', 'Modern', 'Modern', 'Modern', 'Modern', 'Modern', 'Modern', 'Modern', 'Modern', 'Modern', 'Modern', 'Modern', 'Modern']\n"
     ]
    }
   ],
   "source": [
    "print(content_age_cat)"
   ]
  },
  {
   "cell_type": "code",
   "execution_count": 629,
   "id": "105441e3",
   "metadata": {},
   "outputs": [],
   "source": [
    "content_age_cat = pd.DataFrame(content_age_cat,columns=[\"ContentAge Category\"])\n",
    "df = pd.concat([df,content_age_cat],axis=1)"
   ]
  },
  {
   "cell_type": "code",
   "execution_count": 630,
   "id": "fd46f35a",
   "metadata": {},
   "outputs": [
    {
     "data": {
      "text/plain": [
       "Index(['show_id', 'type', 'title', 'director', 'cast', 'country', 'date_added',\n",
       "       'release_year', 'rating', 'duration', 'listed_in', 'description',\n",
       "       'Year added', 'Content Age', 'ContentAge Category'],\n",
       "      dtype='object')"
      ]
     },
     "execution_count": 630,
     "metadata": {},
     "output_type": "execute_result"
    }
   ],
   "source": [
    "df.columns"
   ]
  },
  {
   "cell_type": "code",
   "execution_count": 633,
   "id": "23c043e6",
   "metadata": {},
   "outputs": [],
   "source": [
    "genere_group = df[[\"listed_in\"]]"
   ]
  },
  {
   "cell_type": "code",
   "execution_count": 641,
   "id": "431ece61",
   "metadata": {},
   "outputs": [],
   "source": [
    "genere_group_list = list(genere_group.value_counts().index.to_numpy())"
   ]
  },
  {
   "cell_type": "code",
   "execution_count": 644,
   "id": "cb15e666",
   "metadata": {},
   "outputs": [
    {
     "data": {
      "text/plain": [
       "[('Stand-Up Comedy',),\n",
       " ('Dramas, International Movies',),\n",
       " ('Comedies, Dramas, International Movies',),\n",
       " ('Dramas, Independent Movies, International Movies',),\n",
       " ('Dramas, International Movies, Romantic Movies',),\n",
       " ('Comedies, International Movies, Romantic Movies',),\n",
       " ('Comedies, International Movies',),\n",
       " ('Children & Family Movies, Comedies',),\n",
       " ('Dramas, International Movies, Thrillers',),\n",
       " ('Comedies, Dramas, Independent Movies',),\n",
       " ('Action & Adventure',),\n",
       " ('Action & Adventure, Dramas, International Movies',),\n",
       " ('Action & Adventure, International Movies',),\n",
       " ('Children & Family Movies',),\n",
       " ('Dramas',),\n",
       " ('Comedies',),\n",
       " ('Documentaries',),\n",
       " ('International Movies, Thrillers',),\n",
       " ('Dramas, Independent Movies',),\n",
       " ('Action & Adventure, Comedies, International Movies',),\n",
       " ('Dramas, Thrillers',),\n",
       " ('Horror Movies, International Movies',),\n",
       " ('Comedies, Romantic Movies',),\n",
       " ('Comedies, International Movies, Music & Musicals',),\n",
       " ('Dramas, Romantic Movies',),\n",
       " ('Thrillers',),\n",
       " ('Dramas, International Movies, Music & Musicals',),\n",
       " ('Documentaries, Music & Musicals',),\n",
       " ('Documentaries, International Movies',),\n",
       " ('Action & Adventure, Anime Features, International Movies',),\n",
       " ('Horror Movies',),\n",
       " ('Action & Adventure, Sci-Fi & Fantasy',),\n",
       " ('Action & Adventure, Comedies',),\n",
       " ('Horror Movies, International Movies, Thrillers',),\n",
       " ('Action & Adventure, Dramas',),\n",
       " ('Action & Adventure, Comedies, Dramas',),\n",
       " ('Horror Movies, Thrillers',),\n",
       " ('Children & Family Movies, Dramas',),\n",
       " ('Crime TV Shows, International TV Shows, TV Dramas',),\n",
       " ('Comedies, Dramas',),\n",
       " ('Dramas, International Movies, Sports Movies',),\n",
       " ('Dramas, Independent Movies, Thrillers',),\n",
       " ('International Movies, Romantic Movies',),\n",
       " ('Children & Family Movies, Comedies, Dramas',),\n",
       " ('Documentaries, International Movies, Music & Musicals',),\n",
       " ('Comedies, Independent Movies, International Movies',),\n",
       " ('Documentaries, International Movies, Sports Movies',),\n",
       " ('Dramas, Independent Movies, Romantic Movies',),\n",
       " ('Documentaries, Sports Movies',),\n",
       " ('Movies',),\n",
       " ('Dramas, Faith & Spirituality, International Movies',),\n",
       " ('Dramas, International Movies, Sci-Fi & Fantasy',),\n",
       " ('Classic Movies, Dramas, International Movies',),\n",
       " ('Comedies, Independent Movies',),\n",
       " ('Dramas, International Movies, LGBTQ Movies',),\n",
       " ('Comedies, Horror Movies, International Movies',),\n",
       " ('Children & Family Movies, Dramas, International Movies',),\n",
       " ('Children & Family Movies, Comedies, Music & Musicals',),\n",
       " ('Children & Family Movies, Comedies, Sci-Fi & Fantasy',),\n",
       " ('Children & Family Movies, Music & Musicals',),\n",
       " ('Comedies, International Movies, LGBTQ Movies',),\n",
       " ('Comedies, Dramas, Romantic Movies',),\n",
       " ('Horror Movies, Independent Movies',),\n",
       " ('Action & Adventure, International Movies, Music & Musicals',),\n",
       " ('Action & Adventure, Dramas, Independent Movies',),\n",
       " ('Action & Adventure, Horror Movies, Sci-Fi & Fantasy',),\n",
       " ('Children & Family Movies, Dramas, Romantic Movies',),\n",
       " ('International TV Shows, TV Dramas',),\n",
       " ('Sci-Fi & Fantasy, Thrillers',),\n",
       " ('Documentaries, LGBTQ Movies',),\n",
       " ('Comedies, Horror Movies',),\n",
       " ('Music & Musicals',),\n",
       " ('Action & Adventure, International Movies, Sci-Fi & Fantasy',),\n",
       " ('Anime Features, Children & Family Movies',),\n",
       " ('International TV Shows, Korean TV Shows, Romantic TV Shows',),\n",
       " ('Stand-Up Comedy & Talk Shows, TV Comedies',),\n",
       " ('Dramas, Sci-Fi & Fantasy, Thrillers',),\n",
       " ('Dramas, Sports Movies',),\n",
       " ('Classic Movies, Dramas, Independent Movies',),\n",
       " ('Children & Family Movies, Comedies, Romantic Movies',),\n",
       " ('Comedies, Music & Musicals',),\n",
       " ('Horror Movies, Independent Movies, International Movies',),\n",
       " ('Dramas, Independent Movies, LGBTQ Movies',),\n",
       " ('International TV Shows, Romantic TV Shows, TV Comedies',),\n",
       " ('Dramas, Music & Musicals',),\n",
       " ('Action & Adventure, Anime Features, Children & Family Movies',),\n",
       " ('International Movies, Sci-Fi & Fantasy, Thrillers',),\n",
       " ('Comedies, Cult Movies',),\n",
       " ('Comedies, Dramas, Music & Musicals',),\n",
       " ('Independent Movies, International Movies, Thrillers',),\n",
       " ('Dramas, Independent Movies, Music & Musicals',),\n",
       " ('Anime Series, International TV Shows',),\n",
       " ('Dramas, Independent Movies, Sports Movies',),\n",
       " ('Children & Family Movies, Comedies, International Movies',),\n",
       " ('Dramas, Faith & Spirituality',),\n",
       " ('TV Shows',),\n",
       " ('Action & Adventure, Children & Family Movies, Dramas',),\n",
       " ('Action & Adventure, Classic Movies',),\n",
       " ('Horror Movies, Independent Movies, Thrillers',),\n",
       " ('Action & Adventure, Classic Movies, Dramas',),\n",
       " ('Horror Movies, Sci-Fi & Fantasy',),\n",
       " ('Dramas, LGBTQ Movies',),\n",
       " ('Dramas, Music & Musicals, Romantic Movies',),\n",
       " ('Comedies, International Movies, Sports Movies',),\n",
       " ('Crime TV Shows, International TV Shows, Spanish-Language TV Shows',),\n",
       " ('International Movies, Music & Musicals, Romantic Movies',),\n",
       " ('Independent Movies, Thrillers',),\n",
       " ('Comedies, International Movies, Thrillers',),\n",
       " ('Action & Adventure, International Movies, Romantic Movies',),\n",
       " ('Children & Family Movies, Dramas, Faith & Spirituality',),\n",
       " ('Music & Musicals, Stand-Up Comedy',),\n",
       " ('Children & Family Movies, Sports Movies',),\n",
       " ('International TV Shows, TV Comedies, TV Dramas',),\n",
       " ('International TV Shows, Romantic TV Shows, Spanish-Language TV Shows',),\n",
       " ('Children & Family Movies, Dramas, Independent Movies',),\n",
       " ('Action & Adventure, Thrillers',),\n",
       " ('Children & Family Movies, Dramas, Sports Movies',),\n",
       " ('International TV Shows, TV Dramas, TV Mysteries',),\n",
       " ('Action & Adventure, Horror Movies',),\n",
       " ('Action & Adventure, Dramas, Sports Movies',),\n",
       " ('Horror Movies, International Movies, Romantic Movies',),\n",
       " ('Docuseries',),\n",
       " (\"Kids' TV, TV Comedies\",),\n",
       " (\"Kids' TV\",),\n",
       " ('British TV Shows, Docuseries',),\n",
       " ('Docuseries, International TV Shows',),\n",
       " ('Action & Adventure, Classic Movies, Cult Movies',),\n",
       " ('Action & Adventure, Classic Movies, Comedies',),\n",
       " ('International TV Shows, TV Dramas, TV Horror',),\n",
       " ('Dramas, Romantic Movies, Thrillers',),\n",
       " ('Anime Features, International Movies, Romantic Movies',),\n",
       " ('Horror Movies, Independent Movies, Sci-Fi & Fantasy',),\n",
       " ('Anime Features, International Movies',),\n",
       " ('Anime Features, Children & Family Movies, International Movies',),\n",
       " ('TV Action & Adventure, TV Sci-Fi & Fantasy',),\n",
       " ('TV Comedies',),\n",
       " ('Action & Adventure, Independent Movies, Sci-Fi & Fantasy',),\n",
       " ('Action & Adventure, Independent Movies',),\n",
       " ('Action & Adventure, Children & Family Movies, Comedies',),\n",
       " ('Action & Adventure, Horror Movies, Thrillers',),\n",
       " ('Action & Adventure, Dramas, Sci-Fi & Fantasy',),\n",
       " ('Action & Adventure, Dramas, Romantic Movies',),\n",
       " ('Action & Adventure, Cult Movies, International Movies',),\n",
       " ('Dramas, Sci-Fi & Fantasy',),\n",
       " ('Independent Movies, Sci-Fi & Fantasy, Thrillers',),\n",
       " ('Comedies, Sports Movies',),\n",
       " ('Action & Adventure, Comedies, Romantic Movies',),\n",
       " ('Action & Adventure, Comedies, Independent Movies',),\n",
       " ('Comedies, Dramas, LGBTQ Movies',),\n",
       " ('Comedies, Cult Movies, Music & Musicals',),\n",
       " ('Action & Adventure, Comedies, Sci-Fi & Fantasy',),\n",
       " ('International Movies, Sci-Fi & Fantasy',),\n",
       " ('Classic Movies, Dramas',),\n",
       " ('International Movies, Romantic Movies, Thrillers',),\n",
       " ('Comedies, Independent Movies, Romantic Movies',),\n",
       " ('Classic Movies, Comedies, Cult Movies',),\n",
       " ('Action & Adventure, Comedies, Cult Movies',),\n",
       " ('Children & Family Movies, Sci-Fi & Fantasy',),\n",
       " ('International Movies, Music & Musicals, Thrillers',),\n",
       " ('Comedies, International Movies, Sci-Fi & Fantasy',),\n",
       " ('Children & Family Movies, Comedies, Sports Movies',),\n",
       " ('Children & Family Movies, Documentaries',),\n",
       " ('Crime TV Shows, International TV Shows, TV Action & Adventure',),\n",
       " ('International TV Shows, Spanish-Language TV Shows, TV Comedies',),\n",
       " ('International TV Shows, Reality TV',),\n",
       " ('Horror Movies, Sci-Fi & Fantasy, Thrillers',),\n",
       " ('International TV Shows, Stand-Up Comedy & Talk Shows, TV Comedies',),\n",
       " ('Horror Movies, Romantic Movies, Sci-Fi & Fantasy',),\n",
       " ('International TV Shows, Korean TV Shows, Stand-Up Comedy & Talk Shows',),\n",
       " ('Action & Adventure, Anime Features, Sci-Fi & Fantasy',),\n",
       " ('Action & Adventure, Anime Features, Horror Movies',),\n",
       " ('International TV Shows, Korean TV Shows, TV Action & Adventure',),\n",
       " ('TV Dramas',),\n",
       " ('International TV Shows, Korean TV Shows, TV Dramas',),\n",
       " ('Horror Movies, International Movies, Sci-Fi & Fantasy',),\n",
       " ('Action & Adventure, Anime Features, Classic Movies',),\n",
       " (\"Kids' TV, TV Action & Adventure\",),\n",
       " ('Romantic TV Shows, TV Comedies, TV Dramas',),\n",
       " ('International TV Shows, TV Dramas, TV Thrillers',),\n",
       " ('International TV Shows, TV Dramas, Teen TV Shows',),\n",
       " ('International TV Shows, TV Horror, TV Mysteries',),\n",
       " ('Romantic Movies',),\n",
       " ('Reality TV',),\n",
       " ('International TV Shows, TV Action & Adventure, TV Comedies',),\n",
       " ('International Movies, Music & Musicals',),\n",
       " ('Music & Musicals, Romantic Movies',),\n",
       " ('LGBTQ Movies, Thrillers',),\n",
       " ('International Movies, Romantic Movies, Sci-Fi & Fantasy',),\n",
       " ('International TV Shows, Romantic TV Shows, TV Mysteries',),\n",
       " ('Horror Movies, LGBTQ Movies, Music & Musicals',),\n",
       " ('Action & Adventure, Dramas, Faith & Spirituality',),\n",
       " ('Dramas, Romantic Movies, Sports Movies',),\n",
       " (\"Anime Series, Kids' TV\",),\n",
       " ('Children & Family Movies, Faith & Spirituality, Music & Musicals',),\n",
       " ('Children & Family Movies, Dramas, Music & Musicals',),\n",
       " ('Children & Family Movies, Documentaries, Sports Movies',),\n",
       " ('Children & Family Movies, Comedies, LGBTQ Movies',),\n",
       " ('Action & Adventure, Comedies, Sports Movies',),\n",
       " ('Children & Family Movies, Classic Movies, Comedies',),\n",
       " ('British TV Shows, Romantic TV Shows, TV Dramas',),\n",
       " ('British TV Shows, Reality TV',),\n",
       " ('British TV Shows, International TV Shows, TV Dramas',),\n",
       " ('British TV Shows, International TV Shows, TV Action & Adventure',),\n",
       " ('British TV Shows, International TV Shows, Stand-Up Comedy & Talk Shows',),\n",
       " ('British TV Shows, Crime TV Shows, International TV Shows',),\n",
       " (\"British TV Shows, Classic & Cult TV, Kids' TV\",),\n",
       " ('Anime Series, Romantic TV Shows, Teen TV Shows',),\n",
       " ('Anime Series, International TV Shows, TV Horror',),\n",
       " ('Classic Movies, Comedies, Dramas',),\n",
       " ('Anime Series, International TV Shows, Spanish-Language TV Shows',),\n",
       " ('Anime Series, Crime TV Shows, TV Horror',),\n",
       " ('Anime Features, Romantic Movies',),\n",
       " ('Anime Features, Music & Musicals, Sci-Fi & Fantasy',),\n",
       " ('Anime Features, Music & Musicals',),\n",
       " ('Anime Features, International Movies, Sci-Fi & Fantasy',),\n",
       " ('Action & Adventure, Sports Movies',),\n",
       " ('Action & Adventure, Sci-Fi & Fantasy, Thrillers',),\n",
       " ('Action & Adventure, Sci-Fi & Fantasy, Sports Movies',),\n",
       " ('Action & Adventure, Romantic Movies',),\n",
       " ('Action & Adventure, International Movies, Sports Movies',),\n",
       " ('Action & Adventure, Cult Movies, Sci-Fi & Fantasy',),\n",
       " ('Action & Adventure, Independent Movies, International Movies',),\n",
       " ('Action & Adventure, Horror Movies, International Movies',),\n",
       " ('Classic & Cult TV, TV Action & Adventure, TV Horror',),\n",
       " ('Classic Movies, Music & Musicals',),\n",
       " ('Dramas, Romantic Movies, Sci-Fi & Fantasy',),\n",
       " ('Cult Movies, Dramas, International Movies',),\n",
       " ('Action & Adventure, Children & Family Movies, Classic Movies',),\n",
       " ('Dramas, LGBTQ Movies, Romantic Movies',),\n",
       " ('Action & Adventure, Children & Family Movies, Cult Movies',),\n",
       " ('Dramas, Independent Movies, Sci-Fi & Fantasy',),\n",
       " ('Action & Adventure, Children & Family Movies, Sci-Fi & Fantasy',),\n",
       " ('Dramas, Horror Movies, Thrillers',),\n",
       " ('Dramas, Faith & Spirituality, Romantic Movies',),\n",
       " ('Dramas, Faith & Spirituality, Independent Movies',),\n",
       " ('Documentaries, Stand-Up Comedy',),\n",
       " ('Documentaries, Faith & Spirituality',),\n",
       " ('Documentaries, Dramas',),\n",
       " ('Cult Movies, Horror Movies, Independent Movies',),\n",
       " ('Cult Movies, Horror Movies',),\n",
       " ('Cult Movies, Dramas, Music & Musicals',),\n",
       " ('Crime TV Shows, TV Dramas, TV Mysteries',),\n",
       " ('Comedies, Cult Movies, International Movies',),\n",
       " ('Crime TV Shows, TV Action & Adventure, TV Sci-Fi & Fantasy',),\n",
       " ('Crime TV Shows, TV Action & Adventure, TV Dramas',),\n",
       " ('Crime TV Shows, Romantic TV Shows, TV Dramas',),\n",
       " ('Crime TV Shows, Docuseries',),\n",
       " ('Comedies, Romantic Movies, Sports Movies',),\n",
       " ('Comedies, Music & Musicals, Romantic Movies',),\n",
       " ('Comedies, LGBTQ Movies, Thrillers',),\n",
       " ('Comedies, LGBTQ Movies, Music & Musicals',),\n",
       " ('Comedies, Independent Movies, LGBTQ Movies',),\n",
       " ('Comedies, Horror Movies, Independent Movies',),\n",
       " ('Comedies, Faith & Spirituality, Romantic Movies',),\n",
       " ('Comedies, Dramas, Faith & Spirituality',),\n",
       " ('Comedies, Documentaries',),\n",
       " ('Comedies, Cult Movies, Sci-Fi & Fantasy',),\n",
       " ('Crime TV Shows, TV Action & Adventure',)]"
      ]
     },
     "execution_count": 644,
     "metadata": {},
     "output_type": "execute_result"
    }
   ],
   "source": [
    "genere_group_list"
   ]
  },
  {
   "cell_type": "code",
   "execution_count": 645,
   "id": "1e80e0c7",
   "metadata": {},
   "outputs": [
    {
     "name": "stdout",
     "output_type": "stream",
     "text": [
      " There are total of 258 genere\n"
     ]
    }
   ],
   "source": [
    "print(f\" There are total of {len(genere_group_list)} genere\")"
   ]
  },
  {
   "cell_type": "code",
   "execution_count": 649,
   "id": "e687a891",
   "metadata": {},
   "outputs": [
    {
     "name": "stdout",
     "output_type": "stream",
     "text": [
      "Conclusion: \n",
      "In this analysis, we uncovered several key insights:\n",
      "\n",
      "- Netflix has more **movies than TV shows**, though both types have increased over time.\n",
      "- The **USA dominates** the content catalog, but many countries contribute content globally.\n",
      "- **Content addition peaked** between 2017–2019.\n",
      "- The **duration distribution** shows that most content is short-to-medium length, and movies tend to cluster around 90 minutes.\n",
      "- Genre exploration could be extended further for recommendation system insights.\n"
     ]
    }
   ],
   "source": [
    "print(\"\"\"Conclusion: \n",
    "In this analysis, we uncovered several key insights:\n",
    "\n",
    "- Netflix has more **movies than TV shows**, though both types have increased over time.\n",
    "- The **USA dominates** the content catalog, but many countries contribute content globally.\n",
    "- **Content addition peaked** between 2017–2019.\n",
    "- The **duration distribution** shows that most content is short-to-medium length, and movies tend to cluster around 90 minutes.\n",
    "- Genre exploration could be extended further for recommendation system insights.\"\"\")"
   ]
  }
 ],
 "metadata": {
  "kernelspec": {
   "display_name": "env2",
   "language": "python",
   "name": "python3"
  },
  "language_info": {
   "codemirror_mode": {
    "name": "ipython",
    "version": 3
   },
   "file_extension": ".py",
   "mimetype": "text/x-python",
   "name": "python",
   "nbconvert_exporter": "python",
   "pygments_lexer": "ipython3",
   "version": "3.12.3"
  }
 },
 "nbformat": 4,
 "nbformat_minor": 5
}
